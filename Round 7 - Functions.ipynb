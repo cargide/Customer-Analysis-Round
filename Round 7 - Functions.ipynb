{
 "cells": [
  {
   "cell_type": "markdown",
   "id": "34f56256",
   "metadata": {},
   "source": [
    "### Round 7\n",
    "#### Functions"
   ]
  },
  {
   "cell_type": "code",
   "execution_count": 1,
   "id": "aed3517f",
   "metadata": {},
   "outputs": [],
   "source": [
    "#Required imports\n",
    "import pandas as pd\n",
    "import numpy as np\n",
    "import math"
   ]
  },
  {
   "cell_type": "code",
   "execution_count": null,
   "id": "4f9f26cc",
   "metadata": {},
   "outputs": [],
   "source": [
    "def columns_to_upper (table):\n",
    "    #Changes all column names into uppercase\n",
    "    table.columns = list(map(lambda x: x.upper(), table.columns))\n",
    "    return table"
   ]
  },
  {
   "cell_type": "code",
   "execution_count": null,
   "id": "5084c745",
   "metadata": {},
   "outputs": [],
   "source": [
    "def remove_column_spaces(table):\n",
    "    #Changes blank spaces into underscores for the names of the columns in \"table\"\n",
    "    table.columns = list(map(lambda x: x.replace(\" \",\"_\"), table.columns))\n",
    "    return table"
   ]
  },
  {
   "cell_type": "code",
   "execution_count": null,
   "id": "f7c20a8b",
   "metadata": {},
   "outputs": [],
   "source": [
    "def distributions(table):\n",
    "    #Plots a displot for each column in a table\n",
    "    #All those columns must be numerical\n",
    "    for name in table.columns:\n",
    "        sns.displot(table[name])\n",
    "        plt.show()"
   ]
  },
  {
   "cell_type": "code",
   "execution_count": null,
   "id": "38bc49bc",
   "metadata": {},
   "outputs": [],
   "source": [
    "def histograms(table):\n",
    "    #Plots a histogram for each column in a table\n",
    "    #All those columns must be numerical\n",
    "    for name in table.columns:\n",
    "        plt.hist(table[name])\n",
    "        plt.show()\n",
    "        print(name)"
   ]
  },
  {
   "cell_type": "code",
   "execution_count": null,
   "id": "eb481867",
   "metadata": {},
   "outputs": [],
   "source": [
    "def corr_heatmap(table):\n",
    "    #Plots a correlations heatmap for a table\n",
    "    #All the values must be numerical\n",
    "    correlations_matrix = table.corr()\n",
    "    sns.heatmap(correlations_matrix, annot=True)\n",
    "    plt.show()"
   ]
  },
  {
   "cell_type": "code",
   "execution_count": null,
   "id": "db350eff",
   "metadata": {},
   "outputs": [],
   "source": [
    "def metrics(X, y):\n",
    "    #Finds and prints the metrics of the algorithm\n",
    "    #Requirements\n",
    "#     from sklearn import linear_model\n",
    "#     from sklearn.model_selection import train_test_split\n",
    "#     from sklearn.metrics import r2_score, mean_squared_error, mean_absolute_error\n",
    "    predictions = lm.predict(X)\n",
    "    r2 = r2_score(y, predictions)\n",
    "    print('R2:', r2)\n",
    "    mse = np.sqrt(mean_squared_error(y,predictions))\n",
    "    print('MSE:', mse)\n",
    "    rmse = math.sqrt(mse)\n",
    "    print('RMSE:', rmse)\n",
    "    mae = mean_absolute_error(y, predictions)\n",
    "    print('MAE:', mae)"
   ]
  }
 ],
 "metadata": {
  "kernelspec": {
   "display_name": "Python 3 (ipykernel)",
   "language": "python",
   "name": "python3"
  },
  "language_info": {
   "codemirror_mode": {
    "name": "ipython",
    "version": 3
   },
   "file_extension": ".py",
   "mimetype": "text/x-python",
   "name": "python",
   "nbconvert_exporter": "python",
   "pygments_lexer": "ipython3",
   "version": "3.9.7"
  }
 },
 "nbformat": 4,
 "nbformat_minor": 5
}
