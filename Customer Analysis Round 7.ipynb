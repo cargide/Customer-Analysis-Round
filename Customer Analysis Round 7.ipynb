{
 "cells": [
  {
   "cell_type": "markdown",
   "id": "c64b87c4",
   "metadata": {},
   "source": [
    "# **Round 2**"
   ]
  },
  {
   "cell_type": "code",
   "execution_count": 1,
   "id": "f673a45b",
   "metadata": {},
   "outputs": [],
   "source": [
    "import pandas as pd\n",
    "import numpy as np\n",
    "import math\n",
    "\n",
    "data = pd.read_csv('marketing_customer_analysis.csv')"
   ]
  },
  {
   "cell_type": "markdown",
   "id": "74cd3a31",
   "metadata": {},
   "source": [
    "Show the dataframe shape.\n"
   ]
  },
  {
   "cell_type": "code",
   "execution_count": 2,
   "id": "501f5d39",
   "metadata": {},
   "outputs": [
    {
     "data": {
      "text/plain": [
       "(10910, 26)"
      ]
     },
     "execution_count": 2,
     "metadata": {},
     "output_type": "execute_result"
    }
   ],
   "source": [
    "data.shape"
   ]
  },
  {
   "cell_type": "markdown",
   "id": "6ca0d8a4",
   "metadata": {},
   "source": [
    "Standardize header names.\n"
   ]
  },
  {
   "cell_type": "code",
   "execution_count": 3,
   "id": "0d83f8a8",
   "metadata": {},
   "outputs": [
    {
     "data": {
      "text/plain": [
       "Index(['Unnamed: 0', 'Customer', 'State', 'Customer Lifetime Value',\n",
       "       'Response', 'Coverage', 'Education', 'Effective To Date',\n",
       "       'EmploymentStatus', 'Gender', 'Income', 'Location Code',\n",
       "       'Marital Status', 'Monthly Premium Auto', 'Months Since Last Claim',\n",
       "       'Months Since Policy Inception', 'Number of Open Complaints',\n",
       "       'Number of Policies', 'Policy Type', 'Policy', 'Renew Offer Type',\n",
       "       'Sales Channel', 'Total Claim Amount', 'Vehicle Class', 'Vehicle Size',\n",
       "       'Vehicle Type'],\n",
       "      dtype='object')"
      ]
     },
     "execution_count": 3,
     "metadata": {},
     "output_type": "execute_result"
    }
   ],
   "source": [
    "data.columns"
   ]
  },
  {
   "cell_type": "markdown",
   "id": "3ade81ec",
   "metadata": {},
   "source": [
    "I remove the index column 'Unnamed: 0' created automatically"
   ]
  },
  {
   "cell_type": "code",
   "execution_count": 4,
   "id": "5bc91a6b",
   "metadata": {},
   "outputs": [
    {
     "data": {
      "text/plain": [
       "Index(['Customer', 'State', 'Customer Lifetime Value', 'Response', 'Coverage',\n",
       "       'Education', 'Effective To Date', 'EmploymentStatus', 'Gender',\n",
       "       'Income', 'Location Code', 'Marital Status', 'Monthly Premium Auto',\n",
       "       'Months Since Last Claim', 'Months Since Policy Inception',\n",
       "       'Number of Open Complaints', 'Number of Policies', 'Policy Type',\n",
       "       'Policy', 'Renew Offer Type', 'Sales Channel', 'Total Claim Amount',\n",
       "       'Vehicle Class', 'Vehicle Size', 'Vehicle Type'],\n",
       "      dtype='object')"
      ]
     },
     "execution_count": 4,
     "metadata": {},
     "output_type": "execute_result"
    }
   ],
   "source": [
    "data = data.drop(['Unnamed: 0'], axis=1)\n",
    "data.columns"
   ]
  },
  {
   "cell_type": "markdown",
   "id": "c6216c10",
   "metadata": {},
   "source": [
    "Now I make all column names into uppercase"
   ]
  },
  {
   "cell_type": "code",
   "execution_count": 5,
   "id": "cb72ad9d",
   "metadata": {},
   "outputs": [],
   "source": [
    "def columns_to_upper (table):\n",
    "    table.columns = list(map(lambda x: x.upper(), table.columns))\n",
    "    return table"
   ]
  },
  {
   "cell_type": "code",
   "execution_count": 6,
   "id": "16aae85b",
   "metadata": {},
   "outputs": [
    {
     "data": {
      "text/html": [
       "<div>\n",
       "<style scoped>\n",
       "    .dataframe tbody tr th:only-of-type {\n",
       "        vertical-align: middle;\n",
       "    }\n",
       "\n",
       "    .dataframe tbody tr th {\n",
       "        vertical-align: top;\n",
       "    }\n",
       "\n",
       "    .dataframe thead th {\n",
       "        text-align: right;\n",
       "    }\n",
       "</style>\n",
       "<table border=\"1\" class=\"dataframe\">\n",
       "  <thead>\n",
       "    <tr style=\"text-align: right;\">\n",
       "      <th></th>\n",
       "      <th>CUSTOMER</th>\n",
       "      <th>STATE</th>\n",
       "      <th>CUSTOMER LIFETIME VALUE</th>\n",
       "      <th>RESPONSE</th>\n",
       "      <th>COVERAGE</th>\n",
       "      <th>EDUCATION</th>\n",
       "      <th>EFFECTIVE TO DATE</th>\n",
       "      <th>EMPLOYMENTSTATUS</th>\n",
       "      <th>GENDER</th>\n",
       "      <th>INCOME</th>\n",
       "      <th>...</th>\n",
       "      <th>NUMBER OF OPEN COMPLAINTS</th>\n",
       "      <th>NUMBER OF POLICIES</th>\n",
       "      <th>POLICY TYPE</th>\n",
       "      <th>POLICY</th>\n",
       "      <th>RENEW OFFER TYPE</th>\n",
       "      <th>SALES CHANNEL</th>\n",
       "      <th>TOTAL CLAIM AMOUNT</th>\n",
       "      <th>VEHICLE CLASS</th>\n",
       "      <th>VEHICLE SIZE</th>\n",
       "      <th>VEHICLE TYPE</th>\n",
       "    </tr>\n",
       "  </thead>\n",
       "  <tbody>\n",
       "    <tr>\n",
       "      <th>0</th>\n",
       "      <td>DK49336</td>\n",
       "      <td>Arizona</td>\n",
       "      <td>4809.216960</td>\n",
       "      <td>No</td>\n",
       "      <td>Basic</td>\n",
       "      <td>College</td>\n",
       "      <td>2/18/11</td>\n",
       "      <td>Employed</td>\n",
       "      <td>M</td>\n",
       "      <td>48029</td>\n",
       "      <td>...</td>\n",
       "      <td>0.0</td>\n",
       "      <td>9</td>\n",
       "      <td>Corporate Auto</td>\n",
       "      <td>Corporate L3</td>\n",
       "      <td>Offer3</td>\n",
       "      <td>Agent</td>\n",
       "      <td>292.800000</td>\n",
       "      <td>Four-Door Car</td>\n",
       "      <td>Medsize</td>\n",
       "      <td>NaN</td>\n",
       "    </tr>\n",
       "    <tr>\n",
       "      <th>1</th>\n",
       "      <td>KX64629</td>\n",
       "      <td>California</td>\n",
       "      <td>2228.525238</td>\n",
       "      <td>No</td>\n",
       "      <td>Basic</td>\n",
       "      <td>College</td>\n",
       "      <td>1/18/11</td>\n",
       "      <td>Unemployed</td>\n",
       "      <td>F</td>\n",
       "      <td>0</td>\n",
       "      <td>...</td>\n",
       "      <td>0.0</td>\n",
       "      <td>1</td>\n",
       "      <td>Personal Auto</td>\n",
       "      <td>Personal L3</td>\n",
       "      <td>Offer4</td>\n",
       "      <td>Call Center</td>\n",
       "      <td>744.924331</td>\n",
       "      <td>Four-Door Car</td>\n",
       "      <td>Medsize</td>\n",
       "      <td>NaN</td>\n",
       "    </tr>\n",
       "    <tr>\n",
       "      <th>2</th>\n",
       "      <td>LZ68649</td>\n",
       "      <td>Washington</td>\n",
       "      <td>14947.917300</td>\n",
       "      <td>No</td>\n",
       "      <td>Basic</td>\n",
       "      <td>Bachelor</td>\n",
       "      <td>2/10/11</td>\n",
       "      <td>Employed</td>\n",
       "      <td>M</td>\n",
       "      <td>22139</td>\n",
       "      <td>...</td>\n",
       "      <td>0.0</td>\n",
       "      <td>2</td>\n",
       "      <td>Personal Auto</td>\n",
       "      <td>Personal L3</td>\n",
       "      <td>Offer3</td>\n",
       "      <td>Call Center</td>\n",
       "      <td>480.000000</td>\n",
       "      <td>SUV</td>\n",
       "      <td>Medsize</td>\n",
       "      <td>A</td>\n",
       "    </tr>\n",
       "    <tr>\n",
       "      <th>3</th>\n",
       "      <td>XL78013</td>\n",
       "      <td>Oregon</td>\n",
       "      <td>22332.439460</td>\n",
       "      <td>Yes</td>\n",
       "      <td>Extended</td>\n",
       "      <td>College</td>\n",
       "      <td>1/11/11</td>\n",
       "      <td>Employed</td>\n",
       "      <td>M</td>\n",
       "      <td>49078</td>\n",
       "      <td>...</td>\n",
       "      <td>0.0</td>\n",
       "      <td>2</td>\n",
       "      <td>Corporate Auto</td>\n",
       "      <td>Corporate L3</td>\n",
       "      <td>Offer2</td>\n",
       "      <td>Branch</td>\n",
       "      <td>484.013411</td>\n",
       "      <td>Four-Door Car</td>\n",
       "      <td>Medsize</td>\n",
       "      <td>A</td>\n",
       "    </tr>\n",
       "    <tr>\n",
       "      <th>4</th>\n",
       "      <td>QA50777</td>\n",
       "      <td>Oregon</td>\n",
       "      <td>9025.067525</td>\n",
       "      <td>No</td>\n",
       "      <td>Premium</td>\n",
       "      <td>Bachelor</td>\n",
       "      <td>1/17/11</td>\n",
       "      <td>Medical Leave</td>\n",
       "      <td>F</td>\n",
       "      <td>23675</td>\n",
       "      <td>...</td>\n",
       "      <td>NaN</td>\n",
       "      <td>7</td>\n",
       "      <td>Personal Auto</td>\n",
       "      <td>Personal L2</td>\n",
       "      <td>Offer1</td>\n",
       "      <td>Branch</td>\n",
       "      <td>707.925645</td>\n",
       "      <td>Four-Door Car</td>\n",
       "      <td>Medsize</td>\n",
       "      <td>NaN</td>\n",
       "    </tr>\n",
       "  </tbody>\n",
       "</table>\n",
       "<p>5 rows × 25 columns</p>\n",
       "</div>"
      ],
      "text/plain": [
       "  CUSTOMER       STATE  CUSTOMER LIFETIME VALUE RESPONSE  COVERAGE EDUCATION  \\\n",
       "0  DK49336     Arizona              4809.216960       No     Basic   College   \n",
       "1  KX64629  California              2228.525238       No     Basic   College   \n",
       "2  LZ68649  Washington             14947.917300       No     Basic  Bachelor   \n",
       "3  XL78013      Oregon             22332.439460      Yes  Extended   College   \n",
       "4  QA50777      Oregon              9025.067525       No   Premium  Bachelor   \n",
       "\n",
       "  EFFECTIVE TO DATE EMPLOYMENTSTATUS GENDER  INCOME  ...  \\\n",
       "0           2/18/11         Employed      M   48029  ...   \n",
       "1           1/18/11       Unemployed      F       0  ...   \n",
       "2           2/10/11         Employed      M   22139  ...   \n",
       "3           1/11/11         Employed      M   49078  ...   \n",
       "4           1/17/11    Medical Leave      F   23675  ...   \n",
       "\n",
       "  NUMBER OF OPEN COMPLAINTS NUMBER OF POLICIES     POLICY TYPE        POLICY  \\\n",
       "0                       0.0                  9  Corporate Auto  Corporate L3   \n",
       "1                       0.0                  1   Personal Auto   Personal L3   \n",
       "2                       0.0                  2   Personal Auto   Personal L3   \n",
       "3                       0.0                  2  Corporate Auto  Corporate L3   \n",
       "4                       NaN                  7   Personal Auto   Personal L2   \n",
       "\n",
       "   RENEW OFFER TYPE  SALES CHANNEL  TOTAL CLAIM AMOUNT  VEHICLE CLASS  \\\n",
       "0            Offer3          Agent          292.800000  Four-Door Car   \n",
       "1            Offer4    Call Center          744.924331  Four-Door Car   \n",
       "2            Offer3    Call Center          480.000000            SUV   \n",
       "3            Offer2         Branch          484.013411  Four-Door Car   \n",
       "4            Offer1         Branch          707.925645  Four-Door Car   \n",
       "\n",
       "  VEHICLE SIZE VEHICLE TYPE  \n",
       "0      Medsize          NaN  \n",
       "1      Medsize          NaN  \n",
       "2      Medsize            A  \n",
       "3      Medsize            A  \n",
       "4      Medsize          NaN  \n",
       "\n",
       "[5 rows x 25 columns]"
      ]
     },
     "execution_count": 6,
     "metadata": {},
     "output_type": "execute_result"
    }
   ],
   "source": [
    "data = columns_to_upper(data)\n",
    "data.head()"
   ]
  },
  {
   "cell_type": "markdown",
   "id": "49b7fe3e",
   "metadata": {},
   "source": [
    "Next step is removing spaces from the names to make them easier to use and to read"
   ]
  },
  {
   "cell_type": "code",
   "execution_count": 7,
   "id": "11cdd6ec",
   "metadata": {},
   "outputs": [],
   "source": [
    "def remove_column_spaces(table):\n",
    "    #Changes blank spaces into underscores for the names of the columns in \"table\"\n",
    "    table.columns = list(map(lambda x: x.replace(\" \",\"_\"), table.columns))\n",
    "    return table"
   ]
  },
  {
   "cell_type": "code",
   "execution_count": 8,
   "id": "c6ba7729",
   "metadata": {},
   "outputs": [
    {
     "data": {
      "text/html": [
       "<div>\n",
       "<style scoped>\n",
       "    .dataframe tbody tr th:only-of-type {\n",
       "        vertical-align: middle;\n",
       "    }\n",
       "\n",
       "    .dataframe tbody tr th {\n",
       "        vertical-align: top;\n",
       "    }\n",
       "\n",
       "    .dataframe thead th {\n",
       "        text-align: right;\n",
       "    }\n",
       "</style>\n",
       "<table border=\"1\" class=\"dataframe\">\n",
       "  <thead>\n",
       "    <tr style=\"text-align: right;\">\n",
       "      <th></th>\n",
       "      <th>CUSTOMER</th>\n",
       "      <th>STATE</th>\n",
       "      <th>CUSTOMER_LIFETIME_VALUE</th>\n",
       "      <th>RESPONSE</th>\n",
       "      <th>COVERAGE</th>\n",
       "      <th>EDUCATION</th>\n",
       "      <th>EFFECTIVE_TO_DATE</th>\n",
       "      <th>EMPLOYMENTSTATUS</th>\n",
       "      <th>GENDER</th>\n",
       "      <th>INCOME</th>\n",
       "      <th>...</th>\n",
       "      <th>NUMBER_OF_OPEN_COMPLAINTS</th>\n",
       "      <th>NUMBER_OF_POLICIES</th>\n",
       "      <th>POLICY_TYPE</th>\n",
       "      <th>POLICY</th>\n",
       "      <th>RENEW_OFFER_TYPE</th>\n",
       "      <th>SALES_CHANNEL</th>\n",
       "      <th>TOTAL_CLAIM_AMOUNT</th>\n",
       "      <th>VEHICLE_CLASS</th>\n",
       "      <th>VEHICLE_SIZE</th>\n",
       "      <th>VEHICLE_TYPE</th>\n",
       "    </tr>\n",
       "  </thead>\n",
       "  <tbody>\n",
       "    <tr>\n",
       "      <th>0</th>\n",
       "      <td>DK49336</td>\n",
       "      <td>Arizona</td>\n",
       "      <td>4809.216960</td>\n",
       "      <td>No</td>\n",
       "      <td>Basic</td>\n",
       "      <td>College</td>\n",
       "      <td>2/18/11</td>\n",
       "      <td>Employed</td>\n",
       "      <td>M</td>\n",
       "      <td>48029</td>\n",
       "      <td>...</td>\n",
       "      <td>0.0</td>\n",
       "      <td>9</td>\n",
       "      <td>Corporate Auto</td>\n",
       "      <td>Corporate L3</td>\n",
       "      <td>Offer3</td>\n",
       "      <td>Agent</td>\n",
       "      <td>292.800000</td>\n",
       "      <td>Four-Door Car</td>\n",
       "      <td>Medsize</td>\n",
       "      <td>NaN</td>\n",
       "    </tr>\n",
       "    <tr>\n",
       "      <th>1</th>\n",
       "      <td>KX64629</td>\n",
       "      <td>California</td>\n",
       "      <td>2228.525238</td>\n",
       "      <td>No</td>\n",
       "      <td>Basic</td>\n",
       "      <td>College</td>\n",
       "      <td>1/18/11</td>\n",
       "      <td>Unemployed</td>\n",
       "      <td>F</td>\n",
       "      <td>0</td>\n",
       "      <td>...</td>\n",
       "      <td>0.0</td>\n",
       "      <td>1</td>\n",
       "      <td>Personal Auto</td>\n",
       "      <td>Personal L3</td>\n",
       "      <td>Offer4</td>\n",
       "      <td>Call Center</td>\n",
       "      <td>744.924331</td>\n",
       "      <td>Four-Door Car</td>\n",
       "      <td>Medsize</td>\n",
       "      <td>NaN</td>\n",
       "    </tr>\n",
       "    <tr>\n",
       "      <th>2</th>\n",
       "      <td>LZ68649</td>\n",
       "      <td>Washington</td>\n",
       "      <td>14947.917300</td>\n",
       "      <td>No</td>\n",
       "      <td>Basic</td>\n",
       "      <td>Bachelor</td>\n",
       "      <td>2/10/11</td>\n",
       "      <td>Employed</td>\n",
       "      <td>M</td>\n",
       "      <td>22139</td>\n",
       "      <td>...</td>\n",
       "      <td>0.0</td>\n",
       "      <td>2</td>\n",
       "      <td>Personal Auto</td>\n",
       "      <td>Personal L3</td>\n",
       "      <td>Offer3</td>\n",
       "      <td>Call Center</td>\n",
       "      <td>480.000000</td>\n",
       "      <td>SUV</td>\n",
       "      <td>Medsize</td>\n",
       "      <td>A</td>\n",
       "    </tr>\n",
       "    <tr>\n",
       "      <th>3</th>\n",
       "      <td>XL78013</td>\n",
       "      <td>Oregon</td>\n",
       "      <td>22332.439460</td>\n",
       "      <td>Yes</td>\n",
       "      <td>Extended</td>\n",
       "      <td>College</td>\n",
       "      <td>1/11/11</td>\n",
       "      <td>Employed</td>\n",
       "      <td>M</td>\n",
       "      <td>49078</td>\n",
       "      <td>...</td>\n",
       "      <td>0.0</td>\n",
       "      <td>2</td>\n",
       "      <td>Corporate Auto</td>\n",
       "      <td>Corporate L3</td>\n",
       "      <td>Offer2</td>\n",
       "      <td>Branch</td>\n",
       "      <td>484.013411</td>\n",
       "      <td>Four-Door Car</td>\n",
       "      <td>Medsize</td>\n",
       "      <td>A</td>\n",
       "    </tr>\n",
       "    <tr>\n",
       "      <th>4</th>\n",
       "      <td>QA50777</td>\n",
       "      <td>Oregon</td>\n",
       "      <td>9025.067525</td>\n",
       "      <td>No</td>\n",
       "      <td>Premium</td>\n",
       "      <td>Bachelor</td>\n",
       "      <td>1/17/11</td>\n",
       "      <td>Medical Leave</td>\n",
       "      <td>F</td>\n",
       "      <td>23675</td>\n",
       "      <td>...</td>\n",
       "      <td>NaN</td>\n",
       "      <td>7</td>\n",
       "      <td>Personal Auto</td>\n",
       "      <td>Personal L2</td>\n",
       "      <td>Offer1</td>\n",
       "      <td>Branch</td>\n",
       "      <td>707.925645</td>\n",
       "      <td>Four-Door Car</td>\n",
       "      <td>Medsize</td>\n",
       "      <td>NaN</td>\n",
       "    </tr>\n",
       "  </tbody>\n",
       "</table>\n",
       "<p>5 rows × 25 columns</p>\n",
       "</div>"
      ],
      "text/plain": [
       "  CUSTOMER       STATE  CUSTOMER_LIFETIME_VALUE RESPONSE  COVERAGE EDUCATION  \\\n",
       "0  DK49336     Arizona              4809.216960       No     Basic   College   \n",
       "1  KX64629  California              2228.525238       No     Basic   College   \n",
       "2  LZ68649  Washington             14947.917300       No     Basic  Bachelor   \n",
       "3  XL78013      Oregon             22332.439460      Yes  Extended   College   \n",
       "4  QA50777      Oregon              9025.067525       No   Premium  Bachelor   \n",
       "\n",
       "  EFFECTIVE_TO_DATE EMPLOYMENTSTATUS GENDER  INCOME  ...  \\\n",
       "0           2/18/11         Employed      M   48029  ...   \n",
       "1           1/18/11       Unemployed      F       0  ...   \n",
       "2           2/10/11         Employed      M   22139  ...   \n",
       "3           1/11/11         Employed      M   49078  ...   \n",
       "4           1/17/11    Medical Leave      F   23675  ...   \n",
       "\n",
       "  NUMBER_OF_OPEN_COMPLAINTS NUMBER_OF_POLICIES     POLICY_TYPE        POLICY  \\\n",
       "0                       0.0                  9  Corporate Auto  Corporate L3   \n",
       "1                       0.0                  1   Personal Auto   Personal L3   \n",
       "2                       0.0                  2   Personal Auto   Personal L3   \n",
       "3                       0.0                  2  Corporate Auto  Corporate L3   \n",
       "4                       NaN                  7   Personal Auto   Personal L2   \n",
       "\n",
       "   RENEW_OFFER_TYPE  SALES_CHANNEL  TOTAL_CLAIM_AMOUNT  VEHICLE_CLASS  \\\n",
       "0            Offer3          Agent          292.800000  Four-Door Car   \n",
       "1            Offer4    Call Center          744.924331  Four-Door Car   \n",
       "2            Offer3    Call Center          480.000000            SUV   \n",
       "3            Offer2         Branch          484.013411  Four-Door Car   \n",
       "4            Offer1         Branch          707.925645  Four-Door Car   \n",
       "\n",
       "  VEHICLE_SIZE VEHICLE_TYPE  \n",
       "0      Medsize          NaN  \n",
       "1      Medsize          NaN  \n",
       "2      Medsize            A  \n",
       "3      Medsize            A  \n",
       "4      Medsize          NaN  \n",
       "\n",
       "[5 rows x 25 columns]"
      ]
     },
     "execution_count": 8,
     "metadata": {},
     "output_type": "execute_result"
    }
   ],
   "source": [
    "data = remove_column_spaces(data)\n",
    "data.head()"
   ]
  },
  {
   "cell_type": "markdown",
   "id": "e49af18a",
   "metadata": {},
   "source": [
    "Change 'EMPLOYMENTSTATUS' to 'EMPLOYMENT_STATUS'"
   ]
  },
  {
   "cell_type": "code",
   "execution_count": 9,
   "id": "f1dd51c8",
   "metadata": {},
   "outputs": [
    {
     "data": {
      "text/html": [
       "<div>\n",
       "<style scoped>\n",
       "    .dataframe tbody tr th:only-of-type {\n",
       "        vertical-align: middle;\n",
       "    }\n",
       "\n",
       "    .dataframe tbody tr th {\n",
       "        vertical-align: top;\n",
       "    }\n",
       "\n",
       "    .dataframe thead th {\n",
       "        text-align: right;\n",
       "    }\n",
       "</style>\n",
       "<table border=\"1\" class=\"dataframe\">\n",
       "  <thead>\n",
       "    <tr style=\"text-align: right;\">\n",
       "      <th></th>\n",
       "      <th>CUSTOMER</th>\n",
       "      <th>STATE</th>\n",
       "      <th>CUSTOMER_LIFETIME_VALUE</th>\n",
       "      <th>RESPONSE</th>\n",
       "      <th>COVERAGE</th>\n",
       "      <th>EDUCATION</th>\n",
       "      <th>EFFECTIVE_TO_DATE</th>\n",
       "      <th>EMPLOYMENT_STATUS</th>\n",
       "      <th>GENDER</th>\n",
       "      <th>INCOME</th>\n",
       "      <th>...</th>\n",
       "      <th>NUMBER_OF_OPEN_COMPLAINTS</th>\n",
       "      <th>NUMBER_OF_POLICIES</th>\n",
       "      <th>POLICY_TYPE</th>\n",
       "      <th>POLICY</th>\n",
       "      <th>RENEW_OFFER_TYPE</th>\n",
       "      <th>SALES_CHANNEL</th>\n",
       "      <th>TOTAL_CLAIM_AMOUNT</th>\n",
       "      <th>VEHICLE_CLASS</th>\n",
       "      <th>VEHICLE_SIZE</th>\n",
       "      <th>VEHICLE_TYPE</th>\n",
       "    </tr>\n",
       "  </thead>\n",
       "  <tbody>\n",
       "    <tr>\n",
       "      <th>0</th>\n",
       "      <td>DK49336</td>\n",
       "      <td>Arizona</td>\n",
       "      <td>4809.216960</td>\n",
       "      <td>No</td>\n",
       "      <td>Basic</td>\n",
       "      <td>College</td>\n",
       "      <td>2/18/11</td>\n",
       "      <td>Employed</td>\n",
       "      <td>M</td>\n",
       "      <td>48029</td>\n",
       "      <td>...</td>\n",
       "      <td>0.0</td>\n",
       "      <td>9</td>\n",
       "      <td>Corporate Auto</td>\n",
       "      <td>Corporate L3</td>\n",
       "      <td>Offer3</td>\n",
       "      <td>Agent</td>\n",
       "      <td>292.800000</td>\n",
       "      <td>Four-Door Car</td>\n",
       "      <td>Medsize</td>\n",
       "      <td>NaN</td>\n",
       "    </tr>\n",
       "    <tr>\n",
       "      <th>1</th>\n",
       "      <td>KX64629</td>\n",
       "      <td>California</td>\n",
       "      <td>2228.525238</td>\n",
       "      <td>No</td>\n",
       "      <td>Basic</td>\n",
       "      <td>College</td>\n",
       "      <td>1/18/11</td>\n",
       "      <td>Unemployed</td>\n",
       "      <td>F</td>\n",
       "      <td>0</td>\n",
       "      <td>...</td>\n",
       "      <td>0.0</td>\n",
       "      <td>1</td>\n",
       "      <td>Personal Auto</td>\n",
       "      <td>Personal L3</td>\n",
       "      <td>Offer4</td>\n",
       "      <td>Call Center</td>\n",
       "      <td>744.924331</td>\n",
       "      <td>Four-Door Car</td>\n",
       "      <td>Medsize</td>\n",
       "      <td>NaN</td>\n",
       "    </tr>\n",
       "    <tr>\n",
       "      <th>2</th>\n",
       "      <td>LZ68649</td>\n",
       "      <td>Washington</td>\n",
       "      <td>14947.917300</td>\n",
       "      <td>No</td>\n",
       "      <td>Basic</td>\n",
       "      <td>Bachelor</td>\n",
       "      <td>2/10/11</td>\n",
       "      <td>Employed</td>\n",
       "      <td>M</td>\n",
       "      <td>22139</td>\n",
       "      <td>...</td>\n",
       "      <td>0.0</td>\n",
       "      <td>2</td>\n",
       "      <td>Personal Auto</td>\n",
       "      <td>Personal L3</td>\n",
       "      <td>Offer3</td>\n",
       "      <td>Call Center</td>\n",
       "      <td>480.000000</td>\n",
       "      <td>SUV</td>\n",
       "      <td>Medsize</td>\n",
       "      <td>A</td>\n",
       "    </tr>\n",
       "    <tr>\n",
       "      <th>3</th>\n",
       "      <td>XL78013</td>\n",
       "      <td>Oregon</td>\n",
       "      <td>22332.439460</td>\n",
       "      <td>Yes</td>\n",
       "      <td>Extended</td>\n",
       "      <td>College</td>\n",
       "      <td>1/11/11</td>\n",
       "      <td>Employed</td>\n",
       "      <td>M</td>\n",
       "      <td>49078</td>\n",
       "      <td>...</td>\n",
       "      <td>0.0</td>\n",
       "      <td>2</td>\n",
       "      <td>Corporate Auto</td>\n",
       "      <td>Corporate L3</td>\n",
       "      <td>Offer2</td>\n",
       "      <td>Branch</td>\n",
       "      <td>484.013411</td>\n",
       "      <td>Four-Door Car</td>\n",
       "      <td>Medsize</td>\n",
       "      <td>A</td>\n",
       "    </tr>\n",
       "    <tr>\n",
       "      <th>4</th>\n",
       "      <td>QA50777</td>\n",
       "      <td>Oregon</td>\n",
       "      <td>9025.067525</td>\n",
       "      <td>No</td>\n",
       "      <td>Premium</td>\n",
       "      <td>Bachelor</td>\n",
       "      <td>1/17/11</td>\n",
       "      <td>Medical Leave</td>\n",
       "      <td>F</td>\n",
       "      <td>23675</td>\n",
       "      <td>...</td>\n",
       "      <td>NaN</td>\n",
       "      <td>7</td>\n",
       "      <td>Personal Auto</td>\n",
       "      <td>Personal L2</td>\n",
       "      <td>Offer1</td>\n",
       "      <td>Branch</td>\n",
       "      <td>707.925645</td>\n",
       "      <td>Four-Door Car</td>\n",
       "      <td>Medsize</td>\n",
       "      <td>NaN</td>\n",
       "    </tr>\n",
       "  </tbody>\n",
       "</table>\n",
       "<p>5 rows × 25 columns</p>\n",
       "</div>"
      ],
      "text/plain": [
       "  CUSTOMER       STATE  CUSTOMER_LIFETIME_VALUE RESPONSE  COVERAGE EDUCATION  \\\n",
       "0  DK49336     Arizona              4809.216960       No     Basic   College   \n",
       "1  KX64629  California              2228.525238       No     Basic   College   \n",
       "2  LZ68649  Washington             14947.917300       No     Basic  Bachelor   \n",
       "3  XL78013      Oregon             22332.439460      Yes  Extended   College   \n",
       "4  QA50777      Oregon              9025.067525       No   Premium  Bachelor   \n",
       "\n",
       "  EFFECTIVE_TO_DATE EMPLOYMENT_STATUS GENDER  INCOME  ...  \\\n",
       "0           2/18/11          Employed      M   48029  ...   \n",
       "1           1/18/11        Unemployed      F       0  ...   \n",
       "2           2/10/11          Employed      M   22139  ...   \n",
       "3           1/11/11          Employed      M   49078  ...   \n",
       "4           1/17/11     Medical Leave      F   23675  ...   \n",
       "\n",
       "  NUMBER_OF_OPEN_COMPLAINTS NUMBER_OF_POLICIES     POLICY_TYPE        POLICY  \\\n",
       "0                       0.0                  9  Corporate Auto  Corporate L3   \n",
       "1                       0.0                  1   Personal Auto   Personal L3   \n",
       "2                       0.0                  2   Personal Auto   Personal L3   \n",
       "3                       0.0                  2  Corporate Auto  Corporate L3   \n",
       "4                       NaN                  7   Personal Auto   Personal L2   \n",
       "\n",
       "   RENEW_OFFER_TYPE  SALES_CHANNEL  TOTAL_CLAIM_AMOUNT  VEHICLE_CLASS  \\\n",
       "0            Offer3          Agent          292.800000  Four-Door Car   \n",
       "1            Offer4    Call Center          744.924331  Four-Door Car   \n",
       "2            Offer3    Call Center          480.000000            SUV   \n",
       "3            Offer2         Branch          484.013411  Four-Door Car   \n",
       "4            Offer1         Branch          707.925645  Four-Door Car   \n",
       "\n",
       "  VEHICLE_SIZE VEHICLE_TYPE  \n",
       "0      Medsize          NaN  \n",
       "1      Medsize          NaN  \n",
       "2      Medsize            A  \n",
       "3      Medsize            A  \n",
       "4      Medsize          NaN  \n",
       "\n",
       "[5 rows x 25 columns]"
      ]
     },
     "execution_count": 9,
     "metadata": {},
     "output_type": "execute_result"
    }
   ],
   "source": [
    "data = data.rename(columns={'EMPLOYMENTSTATUS': 'EMPLOYMENT_STATUS'})\n",
    "data.head()"
   ]
  },
  {
   "cell_type": "markdown",
   "id": "f6b54d08",
   "metadata": {},
   "source": [
    "Which columns are numerical?\n"
   ]
  },
  {
   "cell_type": "code",
   "execution_count": 10,
   "id": "9c45c729",
   "metadata": {},
   "outputs": [
    {
     "data": {
      "text/plain": [
       "CUSTOMER                          object\n",
       "STATE                             object\n",
       "CUSTOMER_LIFETIME_VALUE          float64\n",
       "RESPONSE                          object\n",
       "COVERAGE                          object\n",
       "EDUCATION                         object\n",
       "EFFECTIVE_TO_DATE                 object\n",
       "EMPLOYMENT_STATUS                 object\n",
       "GENDER                            object\n",
       "INCOME                             int64\n",
       "LOCATION_CODE                     object\n",
       "MARITAL_STATUS                    object\n",
       "MONTHLY_PREMIUM_AUTO               int64\n",
       "MONTHS_SINCE_LAST_CLAIM          float64\n",
       "MONTHS_SINCE_POLICY_INCEPTION      int64\n",
       "NUMBER_OF_OPEN_COMPLAINTS        float64\n",
       "NUMBER_OF_POLICIES                 int64\n",
       "POLICY_TYPE                       object\n",
       "POLICY                            object\n",
       "RENEW_OFFER_TYPE                  object\n",
       "SALES_CHANNEL                     object\n",
       "TOTAL_CLAIM_AMOUNT               float64\n",
       "VEHICLE_CLASS                     object\n",
       "VEHICLE_SIZE                      object\n",
       "VEHICLE_TYPE                      object\n",
       "dtype: object"
      ]
     },
     "execution_count": 10,
     "metadata": {},
     "output_type": "execute_result"
    }
   ],
   "source": [
    "data.dtypes"
   ]
  },
  {
   "cell_type": "code",
   "execution_count": 11,
   "id": "705b065c",
   "metadata": {},
   "outputs": [
    {
     "data": {
      "text/plain": [
       "Index(['CUSTOMER_LIFETIME_VALUE', 'INCOME', 'MONTHLY_PREMIUM_AUTO',\n",
       "       'MONTHS_SINCE_LAST_CLAIM', 'MONTHS_SINCE_POLICY_INCEPTION',\n",
       "       'NUMBER_OF_OPEN_COMPLAINTS', 'NUMBER_OF_POLICIES',\n",
       "       'TOTAL_CLAIM_AMOUNT'],\n",
       "      dtype='object')"
      ]
     },
     "execution_count": 11,
     "metadata": {},
     "output_type": "execute_result"
    }
   ],
   "source": [
    "data._get_numeric_data().columns"
   ]
  },
  {
   "cell_type": "markdown",
   "id": "8ecfe17b",
   "metadata": {},
   "source": [
    "Which columns are categorical?\n"
   ]
  },
  {
   "cell_type": "code",
   "execution_count": 12,
   "id": "c753f182",
   "metadata": {},
   "outputs": [
    {
     "data": {
      "text/plain": [
       "Index(['CUSTOMER', 'STATE', 'RESPONSE', 'COVERAGE', 'EDUCATION',\n",
       "       'EFFECTIVE_TO_DATE', 'EMPLOYMENT_STATUS', 'GENDER', 'LOCATION_CODE',\n",
       "       'MARITAL_STATUS', 'POLICY_TYPE', 'POLICY', 'RENEW_OFFER_TYPE',\n",
       "       'SALES_CHANNEL', 'VEHICLE_CLASS', 'VEHICLE_SIZE', 'VEHICLE_TYPE'],\n",
       "      dtype='object')"
      ]
     },
     "execution_count": 12,
     "metadata": {},
     "output_type": "execute_result"
    }
   ],
   "source": [
    "data.select_dtypes(include=['object']).columns"
   ]
  },
  {
   "cell_type": "markdown",
   "id": "8db50f82",
   "metadata": {},
   "source": [
    "Check and deal with NaN values.\n"
   ]
  },
  {
   "cell_type": "markdown",
   "id": "aa67e85a",
   "metadata": {},
   "source": [
    "First I need to check how many NaN values are there in the dataframe"
   ]
  },
  {
   "cell_type": "code",
   "execution_count": 13,
   "id": "3e6cbb44",
   "metadata": {},
   "outputs": [
    {
     "data": {
      "text/plain": [
       "CUSTOMER                            0\n",
       "STATE                             631\n",
       "CUSTOMER_LIFETIME_VALUE             0\n",
       "RESPONSE                          631\n",
       "COVERAGE                            0\n",
       "EDUCATION                           0\n",
       "EFFECTIVE_TO_DATE                   0\n",
       "EMPLOYMENT_STATUS                   0\n",
       "GENDER                              0\n",
       "INCOME                              0\n",
       "LOCATION_CODE                       0\n",
       "MARITAL_STATUS                      0\n",
       "MONTHLY_PREMIUM_AUTO                0\n",
       "MONTHS_SINCE_LAST_CLAIM           633\n",
       "MONTHS_SINCE_POLICY_INCEPTION       0\n",
       "NUMBER_OF_OPEN_COMPLAINTS         633\n",
       "NUMBER_OF_POLICIES                  0\n",
       "POLICY_TYPE                         0\n",
       "POLICY                              0\n",
       "RENEW_OFFER_TYPE                    0\n",
       "SALES_CHANNEL                       0\n",
       "TOTAL_CLAIM_AMOUNT                  0\n",
       "VEHICLE_CLASS                     622\n",
       "VEHICLE_SIZE                      622\n",
       "VEHICLE_TYPE                     5482\n",
       "dtype: int64"
      ]
     },
     "execution_count": 13,
     "metadata": {},
     "output_type": "execute_result"
    }
   ],
   "source": [
    "data.isna().sum()\n"
   ]
  },
  {
   "cell_type": "markdown",
   "id": "8f33c859",
   "metadata": {},
   "source": [
    "According to these results, I will drop the 'VEHICLE_TYPE' column, as half of its values are NaN"
   ]
  },
  {
   "cell_type": "code",
   "execution_count": 14,
   "id": "b0aebccc",
   "metadata": {},
   "outputs": [
    {
     "data": {
      "text/html": [
       "<div>\n",
       "<style scoped>\n",
       "    .dataframe tbody tr th:only-of-type {\n",
       "        vertical-align: middle;\n",
       "    }\n",
       "\n",
       "    .dataframe tbody tr th {\n",
       "        vertical-align: top;\n",
       "    }\n",
       "\n",
       "    .dataframe thead th {\n",
       "        text-align: right;\n",
       "    }\n",
       "</style>\n",
       "<table border=\"1\" class=\"dataframe\">\n",
       "  <thead>\n",
       "    <tr style=\"text-align: right;\">\n",
       "      <th></th>\n",
       "      <th>CUSTOMER</th>\n",
       "      <th>STATE</th>\n",
       "      <th>CUSTOMER_LIFETIME_VALUE</th>\n",
       "      <th>RESPONSE</th>\n",
       "      <th>COVERAGE</th>\n",
       "      <th>EDUCATION</th>\n",
       "      <th>EFFECTIVE_TO_DATE</th>\n",
       "      <th>EMPLOYMENT_STATUS</th>\n",
       "      <th>GENDER</th>\n",
       "      <th>INCOME</th>\n",
       "      <th>...</th>\n",
       "      <th>MONTHS_SINCE_POLICY_INCEPTION</th>\n",
       "      <th>NUMBER_OF_OPEN_COMPLAINTS</th>\n",
       "      <th>NUMBER_OF_POLICIES</th>\n",
       "      <th>POLICY_TYPE</th>\n",
       "      <th>POLICY</th>\n",
       "      <th>RENEW_OFFER_TYPE</th>\n",
       "      <th>SALES_CHANNEL</th>\n",
       "      <th>TOTAL_CLAIM_AMOUNT</th>\n",
       "      <th>VEHICLE_CLASS</th>\n",
       "      <th>VEHICLE_SIZE</th>\n",
       "    </tr>\n",
       "  </thead>\n",
       "  <tbody>\n",
       "    <tr>\n",
       "      <th>0</th>\n",
       "      <td>DK49336</td>\n",
       "      <td>Arizona</td>\n",
       "      <td>4809.216960</td>\n",
       "      <td>No</td>\n",
       "      <td>Basic</td>\n",
       "      <td>College</td>\n",
       "      <td>2/18/11</td>\n",
       "      <td>Employed</td>\n",
       "      <td>M</td>\n",
       "      <td>48029</td>\n",
       "      <td>...</td>\n",
       "      <td>52</td>\n",
       "      <td>0.0</td>\n",
       "      <td>9</td>\n",
       "      <td>Corporate Auto</td>\n",
       "      <td>Corporate L3</td>\n",
       "      <td>Offer3</td>\n",
       "      <td>Agent</td>\n",
       "      <td>292.800000</td>\n",
       "      <td>Four-Door Car</td>\n",
       "      <td>Medsize</td>\n",
       "    </tr>\n",
       "    <tr>\n",
       "      <th>1</th>\n",
       "      <td>KX64629</td>\n",
       "      <td>California</td>\n",
       "      <td>2228.525238</td>\n",
       "      <td>No</td>\n",
       "      <td>Basic</td>\n",
       "      <td>College</td>\n",
       "      <td>1/18/11</td>\n",
       "      <td>Unemployed</td>\n",
       "      <td>F</td>\n",
       "      <td>0</td>\n",
       "      <td>...</td>\n",
       "      <td>26</td>\n",
       "      <td>0.0</td>\n",
       "      <td>1</td>\n",
       "      <td>Personal Auto</td>\n",
       "      <td>Personal L3</td>\n",
       "      <td>Offer4</td>\n",
       "      <td>Call Center</td>\n",
       "      <td>744.924331</td>\n",
       "      <td>Four-Door Car</td>\n",
       "      <td>Medsize</td>\n",
       "    </tr>\n",
       "    <tr>\n",
       "      <th>2</th>\n",
       "      <td>LZ68649</td>\n",
       "      <td>Washington</td>\n",
       "      <td>14947.917300</td>\n",
       "      <td>No</td>\n",
       "      <td>Basic</td>\n",
       "      <td>Bachelor</td>\n",
       "      <td>2/10/11</td>\n",
       "      <td>Employed</td>\n",
       "      <td>M</td>\n",
       "      <td>22139</td>\n",
       "      <td>...</td>\n",
       "      <td>31</td>\n",
       "      <td>0.0</td>\n",
       "      <td>2</td>\n",
       "      <td>Personal Auto</td>\n",
       "      <td>Personal L3</td>\n",
       "      <td>Offer3</td>\n",
       "      <td>Call Center</td>\n",
       "      <td>480.000000</td>\n",
       "      <td>SUV</td>\n",
       "      <td>Medsize</td>\n",
       "    </tr>\n",
       "    <tr>\n",
       "      <th>3</th>\n",
       "      <td>XL78013</td>\n",
       "      <td>Oregon</td>\n",
       "      <td>22332.439460</td>\n",
       "      <td>Yes</td>\n",
       "      <td>Extended</td>\n",
       "      <td>College</td>\n",
       "      <td>1/11/11</td>\n",
       "      <td>Employed</td>\n",
       "      <td>M</td>\n",
       "      <td>49078</td>\n",
       "      <td>...</td>\n",
       "      <td>3</td>\n",
       "      <td>0.0</td>\n",
       "      <td>2</td>\n",
       "      <td>Corporate Auto</td>\n",
       "      <td>Corporate L3</td>\n",
       "      <td>Offer2</td>\n",
       "      <td>Branch</td>\n",
       "      <td>484.013411</td>\n",
       "      <td>Four-Door Car</td>\n",
       "      <td>Medsize</td>\n",
       "    </tr>\n",
       "    <tr>\n",
       "      <th>4</th>\n",
       "      <td>QA50777</td>\n",
       "      <td>Oregon</td>\n",
       "      <td>9025.067525</td>\n",
       "      <td>No</td>\n",
       "      <td>Premium</td>\n",
       "      <td>Bachelor</td>\n",
       "      <td>1/17/11</td>\n",
       "      <td>Medical Leave</td>\n",
       "      <td>F</td>\n",
       "      <td>23675</td>\n",
       "      <td>...</td>\n",
       "      <td>31</td>\n",
       "      <td>NaN</td>\n",
       "      <td>7</td>\n",
       "      <td>Personal Auto</td>\n",
       "      <td>Personal L2</td>\n",
       "      <td>Offer1</td>\n",
       "      <td>Branch</td>\n",
       "      <td>707.925645</td>\n",
       "      <td>Four-Door Car</td>\n",
       "      <td>Medsize</td>\n",
       "    </tr>\n",
       "    <tr>\n",
       "      <th>...</th>\n",
       "      <td>...</td>\n",
       "      <td>...</td>\n",
       "      <td>...</td>\n",
       "      <td>...</td>\n",
       "      <td>...</td>\n",
       "      <td>...</td>\n",
       "      <td>...</td>\n",
       "      <td>...</td>\n",
       "      <td>...</td>\n",
       "      <td>...</td>\n",
       "      <td>...</td>\n",
       "      <td>...</td>\n",
       "      <td>...</td>\n",
       "      <td>...</td>\n",
       "      <td>...</td>\n",
       "      <td>...</td>\n",
       "      <td>...</td>\n",
       "      <td>...</td>\n",
       "      <td>...</td>\n",
       "      <td>...</td>\n",
       "      <td>...</td>\n",
       "    </tr>\n",
       "    <tr>\n",
       "      <th>10905</th>\n",
       "      <td>FE99816</td>\n",
       "      <td>Nevada</td>\n",
       "      <td>15563.369440</td>\n",
       "      <td>No</td>\n",
       "      <td>Premium</td>\n",
       "      <td>Bachelor</td>\n",
       "      <td>1/19/11</td>\n",
       "      <td>Unemployed</td>\n",
       "      <td>F</td>\n",
       "      <td>0</td>\n",
       "      <td>...</td>\n",
       "      <td>40</td>\n",
       "      <td>NaN</td>\n",
       "      <td>7</td>\n",
       "      <td>Personal Auto</td>\n",
       "      <td>Personal L1</td>\n",
       "      <td>Offer3</td>\n",
       "      <td>Web</td>\n",
       "      <td>1214.400000</td>\n",
       "      <td>Luxury Car</td>\n",
       "      <td>Medsize</td>\n",
       "    </tr>\n",
       "    <tr>\n",
       "      <th>10906</th>\n",
       "      <td>KX53892</td>\n",
       "      <td>Oregon</td>\n",
       "      <td>5259.444853</td>\n",
       "      <td>No</td>\n",
       "      <td>Basic</td>\n",
       "      <td>College</td>\n",
       "      <td>1/6/11</td>\n",
       "      <td>Employed</td>\n",
       "      <td>F</td>\n",
       "      <td>61146</td>\n",
       "      <td>...</td>\n",
       "      <td>68</td>\n",
       "      <td>0.0</td>\n",
       "      <td>6</td>\n",
       "      <td>Personal Auto</td>\n",
       "      <td>Personal L3</td>\n",
       "      <td>Offer2</td>\n",
       "      <td>Branch</td>\n",
       "      <td>273.018929</td>\n",
       "      <td>Four-Door Car</td>\n",
       "      <td>Medsize</td>\n",
       "    </tr>\n",
       "    <tr>\n",
       "      <th>10907</th>\n",
       "      <td>TL39050</td>\n",
       "      <td>Arizona</td>\n",
       "      <td>23893.304100</td>\n",
       "      <td>No</td>\n",
       "      <td>Extended</td>\n",
       "      <td>Bachelor</td>\n",
       "      <td>2/6/11</td>\n",
       "      <td>Employed</td>\n",
       "      <td>F</td>\n",
       "      <td>39837</td>\n",
       "      <td>...</td>\n",
       "      <td>63</td>\n",
       "      <td>0.0</td>\n",
       "      <td>2</td>\n",
       "      <td>Corporate Auto</td>\n",
       "      <td>Corporate L3</td>\n",
       "      <td>Offer1</td>\n",
       "      <td>Web</td>\n",
       "      <td>381.306996</td>\n",
       "      <td>Luxury SUV</td>\n",
       "      <td>Medsize</td>\n",
       "    </tr>\n",
       "    <tr>\n",
       "      <th>10908</th>\n",
       "      <td>WA60547</td>\n",
       "      <td>California</td>\n",
       "      <td>11971.977650</td>\n",
       "      <td>No</td>\n",
       "      <td>Premium</td>\n",
       "      <td>College</td>\n",
       "      <td>2/13/11</td>\n",
       "      <td>Employed</td>\n",
       "      <td>F</td>\n",
       "      <td>64195</td>\n",
       "      <td>...</td>\n",
       "      <td>27</td>\n",
       "      <td>4.0</td>\n",
       "      <td>6</td>\n",
       "      <td>Personal Auto</td>\n",
       "      <td>Personal L1</td>\n",
       "      <td>Offer1</td>\n",
       "      <td>Branch</td>\n",
       "      <td>618.288849</td>\n",
       "      <td>SUV</td>\n",
       "      <td>Medsize</td>\n",
       "    </tr>\n",
       "    <tr>\n",
       "      <th>10909</th>\n",
       "      <td>IV32877</td>\n",
       "      <td>NaN</td>\n",
       "      <td>6857.519928</td>\n",
       "      <td>NaN</td>\n",
       "      <td>Basic</td>\n",
       "      <td>Bachelor</td>\n",
       "      <td>1/8/11</td>\n",
       "      <td>Unemployed</td>\n",
       "      <td>M</td>\n",
       "      <td>0</td>\n",
       "      <td>...</td>\n",
       "      <td>1</td>\n",
       "      <td>0.0</td>\n",
       "      <td>3</td>\n",
       "      <td>Personal Auto</td>\n",
       "      <td>Personal L1</td>\n",
       "      <td>Offer4</td>\n",
       "      <td>Web</td>\n",
       "      <td>1021.719397</td>\n",
       "      <td>SUV</td>\n",
       "      <td>Medsize</td>\n",
       "    </tr>\n",
       "  </tbody>\n",
       "</table>\n",
       "<p>10910 rows × 24 columns</p>\n",
       "</div>"
      ],
      "text/plain": [
       "      CUSTOMER       STATE  CUSTOMER_LIFETIME_VALUE RESPONSE  COVERAGE  \\\n",
       "0      DK49336     Arizona              4809.216960       No     Basic   \n",
       "1      KX64629  California              2228.525238       No     Basic   \n",
       "2      LZ68649  Washington             14947.917300       No     Basic   \n",
       "3      XL78013      Oregon             22332.439460      Yes  Extended   \n",
       "4      QA50777      Oregon              9025.067525       No   Premium   \n",
       "...        ...         ...                      ...      ...       ...   \n",
       "10905  FE99816      Nevada             15563.369440       No   Premium   \n",
       "10906  KX53892      Oregon              5259.444853       No     Basic   \n",
       "10907  TL39050     Arizona             23893.304100       No  Extended   \n",
       "10908  WA60547  California             11971.977650       No   Premium   \n",
       "10909  IV32877         NaN              6857.519928      NaN     Basic   \n",
       "\n",
       "      EDUCATION EFFECTIVE_TO_DATE EMPLOYMENT_STATUS GENDER  INCOME  ...  \\\n",
       "0       College           2/18/11          Employed      M   48029  ...   \n",
       "1       College           1/18/11        Unemployed      F       0  ...   \n",
       "2      Bachelor           2/10/11          Employed      M   22139  ...   \n",
       "3       College           1/11/11          Employed      M   49078  ...   \n",
       "4      Bachelor           1/17/11     Medical Leave      F   23675  ...   \n",
       "...         ...               ...               ...    ...     ...  ...   \n",
       "10905  Bachelor           1/19/11        Unemployed      F       0  ...   \n",
       "10906   College            1/6/11          Employed      F   61146  ...   \n",
       "10907  Bachelor            2/6/11          Employed      F   39837  ...   \n",
       "10908   College           2/13/11          Employed      F   64195  ...   \n",
       "10909  Bachelor            1/8/11        Unemployed      M       0  ...   \n",
       "\n",
       "      MONTHS_SINCE_POLICY_INCEPTION NUMBER_OF_OPEN_COMPLAINTS  \\\n",
       "0                                52                       0.0   \n",
       "1                                26                       0.0   \n",
       "2                                31                       0.0   \n",
       "3                                 3                       0.0   \n",
       "4                                31                       NaN   \n",
       "...                             ...                       ...   \n",
       "10905                            40                       NaN   \n",
       "10906                            68                       0.0   \n",
       "10907                            63                       0.0   \n",
       "10908                            27                       4.0   \n",
       "10909                             1                       0.0   \n",
       "\n",
       "       NUMBER_OF_POLICIES     POLICY_TYPE        POLICY  RENEW_OFFER_TYPE  \\\n",
       "0                       9  Corporate Auto  Corporate L3            Offer3   \n",
       "1                       1   Personal Auto   Personal L3            Offer4   \n",
       "2                       2   Personal Auto   Personal L3            Offer3   \n",
       "3                       2  Corporate Auto  Corporate L3            Offer2   \n",
       "4                       7   Personal Auto   Personal L2            Offer1   \n",
       "...                   ...             ...           ...               ...   \n",
       "10905                   7   Personal Auto   Personal L1            Offer3   \n",
       "10906                   6   Personal Auto   Personal L3            Offer2   \n",
       "10907                   2  Corporate Auto  Corporate L3            Offer1   \n",
       "10908                   6   Personal Auto   Personal L1            Offer1   \n",
       "10909                   3   Personal Auto   Personal L1            Offer4   \n",
       "\n",
       "       SALES_CHANNEL TOTAL_CLAIM_AMOUNT  VEHICLE_CLASS VEHICLE_SIZE  \n",
       "0              Agent         292.800000  Four-Door Car      Medsize  \n",
       "1        Call Center         744.924331  Four-Door Car      Medsize  \n",
       "2        Call Center         480.000000            SUV      Medsize  \n",
       "3             Branch         484.013411  Four-Door Car      Medsize  \n",
       "4             Branch         707.925645  Four-Door Car      Medsize  \n",
       "...              ...                ...            ...          ...  \n",
       "10905            Web        1214.400000     Luxury Car      Medsize  \n",
       "10906         Branch         273.018929  Four-Door Car      Medsize  \n",
       "10907            Web         381.306996     Luxury SUV      Medsize  \n",
       "10908         Branch         618.288849            SUV      Medsize  \n",
       "10909            Web        1021.719397            SUV      Medsize  \n",
       "\n",
       "[10910 rows x 24 columns]"
      ]
     },
     "execution_count": 14,
     "metadata": {},
     "output_type": "execute_result"
    }
   ],
   "source": [
    "data = data.drop(['VEHICLE_TYPE'], axis=1)\n",
    "data"
   ]
  },
  {
   "cell_type": "markdown",
   "id": "0ece15f6",
   "metadata": {},
   "source": [
    "As I have not done it before, I will remove duplicates"
   ]
  },
  {
   "cell_type": "code",
   "execution_count": 15,
   "id": "f6d01e31",
   "metadata": {},
   "outputs": [
    {
     "data": {
      "text/plain": [
       "CUSTOMER                           0\n",
       "STATE                            612\n",
       "CUSTOMER_LIFETIME_VALUE            0\n",
       "RESPONSE                         612\n",
       "COVERAGE                           0\n",
       "EDUCATION                          0\n",
       "EFFECTIVE_TO_DATE                  0\n",
       "EMPLOYMENT_STATUS                  0\n",
       "GENDER                             0\n",
       "INCOME                             0\n",
       "LOCATION_CODE                      0\n",
       "MARITAL_STATUS                     0\n",
       "MONTHLY_PREMIUM_AUTO               0\n",
       "MONTHS_SINCE_LAST_CLAIM          618\n",
       "MONTHS_SINCE_POLICY_INCEPTION      0\n",
       "NUMBER_OF_OPEN_COMPLAINTS        618\n",
       "NUMBER_OF_POLICIES                 0\n",
       "POLICY_TYPE                        0\n",
       "POLICY                             0\n",
       "RENEW_OFFER_TYPE                   0\n",
       "SALES_CHANNEL                      0\n",
       "TOTAL_CLAIM_AMOUNT                 0\n",
       "VEHICLE_CLASS                    595\n",
       "VEHICLE_SIZE                     595\n",
       "dtype: int64"
      ]
     },
     "execution_count": 15,
     "metadata": {},
     "output_type": "execute_result"
    }
   ],
   "source": [
    "data = data.drop_duplicates()\n",
    "data.isna().sum()"
   ]
  },
  {
   "cell_type": "markdown",
   "id": "31903024",
   "metadata": {},
   "source": [
    "I will fill the NaN values in 'MONTHS_SINCE_LAST_CLAIM' and 'NUMBER_OF_OPEN_COMPLAINTS' with the means of those rows as they are numerical, and drop the remaining rows with NaN values in them.\n",
    "I will do it in a copy of the variable to keep the original dataframe while I advance."
   ]
  },
  {
   "cell_type": "code",
   "execution_count": 16,
   "id": "435273dd",
   "metadata": {},
   "outputs": [],
   "source": [
    "clean_data = data.copy()"
   ]
  },
  {
   "cell_type": "code",
   "execution_count": 17,
   "id": "e570ee53",
   "metadata": {},
   "outputs": [
    {
     "data": {
      "text/plain": [
       "CUSTOMER                           0\n",
       "STATE                            612\n",
       "CUSTOMER_LIFETIME_VALUE            0\n",
       "RESPONSE                         612\n",
       "COVERAGE                           0\n",
       "EDUCATION                          0\n",
       "EFFECTIVE_TO_DATE                  0\n",
       "EMPLOYMENT_STATUS                  0\n",
       "GENDER                             0\n",
       "INCOME                             0\n",
       "LOCATION_CODE                      0\n",
       "MARITAL_STATUS                     0\n",
       "MONTHLY_PREMIUM_AUTO               0\n",
       "MONTHS_SINCE_LAST_CLAIM            0\n",
       "MONTHS_SINCE_POLICY_INCEPTION      0\n",
       "NUMBER_OF_OPEN_COMPLAINTS          0\n",
       "NUMBER_OF_POLICIES                 0\n",
       "POLICY_TYPE                        0\n",
       "POLICY                             0\n",
       "RENEW_OFFER_TYPE                   0\n",
       "SALES_CHANNEL                      0\n",
       "TOTAL_CLAIM_AMOUNT                 0\n",
       "VEHICLE_CLASS                    595\n",
       "VEHICLE_SIZE                     595\n",
       "dtype: int64"
      ]
     },
     "execution_count": 17,
     "metadata": {},
     "output_type": "execute_result"
    }
   ],
   "source": [
    "mean_claim = data['MONTHS_SINCE_LAST_CLAIM'].mean()\n",
    "clean_data['MONTHS_SINCE_LAST_CLAIM'] = clean_data['MONTHS_SINCE_LAST_CLAIM'].fillna(mean_claim)\n",
    "mean_complains = data['NUMBER_OF_OPEN_COMPLAINTS'].mean()\n",
    "clean_data['NUMBER_OF_OPEN_COMPLAINTS'] = clean_data['NUMBER_OF_OPEN_COMPLAINTS'].fillna(mean_complains)\n",
    "clean_data.isna().sum()"
   ]
  },
  {
   "cell_type": "code",
   "execution_count": 18,
   "id": "b354547a",
   "metadata": {},
   "outputs": [
    {
     "data": {
      "text/plain": [
       "(9676, 24)"
      ]
     },
     "metadata": {},
     "output_type": "display_data"
    },
    {
     "data": {
      "text/plain": [
       "CUSTOMER                         0\n",
       "STATE                            0\n",
       "CUSTOMER_LIFETIME_VALUE          0\n",
       "RESPONSE                         0\n",
       "COVERAGE                         0\n",
       "EDUCATION                        0\n",
       "EFFECTIVE_TO_DATE                0\n",
       "EMPLOYMENT_STATUS                0\n",
       "GENDER                           0\n",
       "INCOME                           0\n",
       "LOCATION_CODE                    0\n",
       "MARITAL_STATUS                   0\n",
       "MONTHLY_PREMIUM_AUTO             0\n",
       "MONTHS_SINCE_LAST_CLAIM          0\n",
       "MONTHS_SINCE_POLICY_INCEPTION    0\n",
       "NUMBER_OF_OPEN_COMPLAINTS        0\n",
       "NUMBER_OF_POLICIES               0\n",
       "POLICY_TYPE                      0\n",
       "POLICY                           0\n",
       "RENEW_OFFER_TYPE                 0\n",
       "SALES_CHANNEL                    0\n",
       "TOTAL_CLAIM_AMOUNT               0\n",
       "VEHICLE_CLASS                    0\n",
       "VEHICLE_SIZE                     0\n",
       "dtype: int64"
      ]
     },
     "execution_count": 18,
     "metadata": {},
     "output_type": "execute_result"
    }
   ],
   "source": [
    "clean_data = clean_data.dropna()\n",
    "display(clean_data.shape)\n",
    "clean_data.isna().sum()"
   ]
  },
  {
   "cell_type": "code",
   "execution_count": 19,
   "id": "6e0288cc",
   "metadata": {},
   "outputs": [
    {
     "data": {
      "text/html": [
       "<div>\n",
       "<style scoped>\n",
       "    .dataframe tbody tr th:only-of-type {\n",
       "        vertical-align: middle;\n",
       "    }\n",
       "\n",
       "    .dataframe tbody tr th {\n",
       "        vertical-align: top;\n",
       "    }\n",
       "\n",
       "    .dataframe thead th {\n",
       "        text-align: right;\n",
       "    }\n",
       "</style>\n",
       "<table border=\"1\" class=\"dataframe\">\n",
       "  <thead>\n",
       "    <tr style=\"text-align: right;\">\n",
       "      <th></th>\n",
       "      <th>CUSTOMER</th>\n",
       "      <th>STATE</th>\n",
       "      <th>CUSTOMER_LIFETIME_VALUE</th>\n",
       "      <th>RESPONSE</th>\n",
       "      <th>COVERAGE</th>\n",
       "      <th>EDUCATION</th>\n",
       "      <th>EFFECTIVE_TO_DATE</th>\n",
       "      <th>EMPLOYMENT_STATUS</th>\n",
       "      <th>GENDER</th>\n",
       "      <th>INCOME</th>\n",
       "      <th>...</th>\n",
       "      <th>MONTHS_SINCE_POLICY_INCEPTION</th>\n",
       "      <th>NUMBER_OF_OPEN_COMPLAINTS</th>\n",
       "      <th>NUMBER_OF_POLICIES</th>\n",
       "      <th>POLICY_TYPE</th>\n",
       "      <th>POLICY</th>\n",
       "      <th>RENEW_OFFER_TYPE</th>\n",
       "      <th>SALES_CHANNEL</th>\n",
       "      <th>TOTAL_CLAIM_AMOUNT</th>\n",
       "      <th>VEHICLE_CLASS</th>\n",
       "      <th>VEHICLE_SIZE</th>\n",
       "    </tr>\n",
       "  </thead>\n",
       "  <tbody>\n",
       "    <tr>\n",
       "      <th>0</th>\n",
       "      <td>DK49336</td>\n",
       "      <td>Arizona</td>\n",
       "      <td>4809.216960</td>\n",
       "      <td>No</td>\n",
       "      <td>Basic</td>\n",
       "      <td>College</td>\n",
       "      <td>2/18/11</td>\n",
       "      <td>Employed</td>\n",
       "      <td>M</td>\n",
       "      <td>48029</td>\n",
       "      <td>...</td>\n",
       "      <td>52</td>\n",
       "      <td>0.000000</td>\n",
       "      <td>9</td>\n",
       "      <td>Corporate Auto</td>\n",
       "      <td>Corporate L3</td>\n",
       "      <td>Offer3</td>\n",
       "      <td>Agent</td>\n",
       "      <td>292.800000</td>\n",
       "      <td>Four-Door Car</td>\n",
       "      <td>Medsize</td>\n",
       "    </tr>\n",
       "    <tr>\n",
       "      <th>1</th>\n",
       "      <td>KX64629</td>\n",
       "      <td>California</td>\n",
       "      <td>2228.525238</td>\n",
       "      <td>No</td>\n",
       "      <td>Basic</td>\n",
       "      <td>College</td>\n",
       "      <td>1/18/11</td>\n",
       "      <td>Unemployed</td>\n",
       "      <td>F</td>\n",
       "      <td>0</td>\n",
       "      <td>...</td>\n",
       "      <td>26</td>\n",
       "      <td>0.000000</td>\n",
       "      <td>1</td>\n",
       "      <td>Personal Auto</td>\n",
       "      <td>Personal L3</td>\n",
       "      <td>Offer4</td>\n",
       "      <td>Call Center</td>\n",
       "      <td>744.924331</td>\n",
       "      <td>Four-Door Car</td>\n",
       "      <td>Medsize</td>\n",
       "    </tr>\n",
       "    <tr>\n",
       "      <th>2</th>\n",
       "      <td>LZ68649</td>\n",
       "      <td>Washington</td>\n",
       "      <td>14947.917300</td>\n",
       "      <td>No</td>\n",
       "      <td>Basic</td>\n",
       "      <td>Bachelor</td>\n",
       "      <td>2/10/11</td>\n",
       "      <td>Employed</td>\n",
       "      <td>M</td>\n",
       "      <td>22139</td>\n",
       "      <td>...</td>\n",
       "      <td>31</td>\n",
       "      <td>0.000000</td>\n",
       "      <td>2</td>\n",
       "      <td>Personal Auto</td>\n",
       "      <td>Personal L3</td>\n",
       "      <td>Offer3</td>\n",
       "      <td>Call Center</td>\n",
       "      <td>480.000000</td>\n",
       "      <td>SUV</td>\n",
       "      <td>Medsize</td>\n",
       "    </tr>\n",
       "    <tr>\n",
       "      <th>3</th>\n",
       "      <td>XL78013</td>\n",
       "      <td>Oregon</td>\n",
       "      <td>22332.439460</td>\n",
       "      <td>Yes</td>\n",
       "      <td>Extended</td>\n",
       "      <td>College</td>\n",
       "      <td>1/11/11</td>\n",
       "      <td>Employed</td>\n",
       "      <td>M</td>\n",
       "      <td>49078</td>\n",
       "      <td>...</td>\n",
       "      <td>3</td>\n",
       "      <td>0.000000</td>\n",
       "      <td>2</td>\n",
       "      <td>Corporate Auto</td>\n",
       "      <td>Corporate L3</td>\n",
       "      <td>Offer2</td>\n",
       "      <td>Branch</td>\n",
       "      <td>484.013411</td>\n",
       "      <td>Four-Door Car</td>\n",
       "      <td>Medsize</td>\n",
       "    </tr>\n",
       "    <tr>\n",
       "      <th>4</th>\n",
       "      <td>QA50777</td>\n",
       "      <td>Oregon</td>\n",
       "      <td>9025.067525</td>\n",
       "      <td>No</td>\n",
       "      <td>Premium</td>\n",
       "      <td>Bachelor</td>\n",
       "      <td>1/17/11</td>\n",
       "      <td>Medical Leave</td>\n",
       "      <td>F</td>\n",
       "      <td>23675</td>\n",
       "      <td>...</td>\n",
       "      <td>31</td>\n",
       "      <td>0.383939</td>\n",
       "      <td>7</td>\n",
       "      <td>Personal Auto</td>\n",
       "      <td>Personal L2</td>\n",
       "      <td>Offer1</td>\n",
       "      <td>Branch</td>\n",
       "      <td>707.925645</td>\n",
       "      <td>Four-Door Car</td>\n",
       "      <td>Medsize</td>\n",
       "    </tr>\n",
       "    <tr>\n",
       "      <th>...</th>\n",
       "      <td>...</td>\n",
       "      <td>...</td>\n",
       "      <td>...</td>\n",
       "      <td>...</td>\n",
       "      <td>...</td>\n",
       "      <td>...</td>\n",
       "      <td>...</td>\n",
       "      <td>...</td>\n",
       "      <td>...</td>\n",
       "      <td>...</td>\n",
       "      <td>...</td>\n",
       "      <td>...</td>\n",
       "      <td>...</td>\n",
       "      <td>...</td>\n",
       "      <td>...</td>\n",
       "      <td>...</td>\n",
       "      <td>...</td>\n",
       "      <td>...</td>\n",
       "      <td>...</td>\n",
       "      <td>...</td>\n",
       "      <td>...</td>\n",
       "    </tr>\n",
       "    <tr>\n",
       "      <th>9671</th>\n",
       "      <td>QI63521</td>\n",
       "      <td>Nevada</td>\n",
       "      <td>19228.463620</td>\n",
       "      <td>No</td>\n",
       "      <td>Basic</td>\n",
       "      <td>High School or Below</td>\n",
       "      <td>2/24/11</td>\n",
       "      <td>Unemployed</td>\n",
       "      <td>M</td>\n",
       "      <td>0</td>\n",
       "      <td>...</td>\n",
       "      <td>32</td>\n",
       "      <td>0.000000</td>\n",
       "      <td>2</td>\n",
       "      <td>Personal Auto</td>\n",
       "      <td>Personal L2</td>\n",
       "      <td>Offer1</td>\n",
       "      <td>Branch</td>\n",
       "      <td>897.600000</td>\n",
       "      <td>Luxury SUV</td>\n",
       "      <td>Medsize</td>\n",
       "    </tr>\n",
       "    <tr>\n",
       "      <th>9672</th>\n",
       "      <td>FE99816</td>\n",
       "      <td>Nevada</td>\n",
       "      <td>15563.369440</td>\n",
       "      <td>No</td>\n",
       "      <td>Premium</td>\n",
       "      <td>Bachelor</td>\n",
       "      <td>1/19/11</td>\n",
       "      <td>Unemployed</td>\n",
       "      <td>F</td>\n",
       "      <td>0</td>\n",
       "      <td>...</td>\n",
       "      <td>40</td>\n",
       "      <td>0.383939</td>\n",
       "      <td>7</td>\n",
       "      <td>Personal Auto</td>\n",
       "      <td>Personal L1</td>\n",
       "      <td>Offer3</td>\n",
       "      <td>Web</td>\n",
       "      <td>1214.400000</td>\n",
       "      <td>Luxury Car</td>\n",
       "      <td>Medsize</td>\n",
       "    </tr>\n",
       "    <tr>\n",
       "      <th>9673</th>\n",
       "      <td>KX53892</td>\n",
       "      <td>Oregon</td>\n",
       "      <td>5259.444853</td>\n",
       "      <td>No</td>\n",
       "      <td>Basic</td>\n",
       "      <td>College</td>\n",
       "      <td>1/6/11</td>\n",
       "      <td>Employed</td>\n",
       "      <td>F</td>\n",
       "      <td>61146</td>\n",
       "      <td>...</td>\n",
       "      <td>68</td>\n",
       "      <td>0.000000</td>\n",
       "      <td>6</td>\n",
       "      <td>Personal Auto</td>\n",
       "      <td>Personal L3</td>\n",
       "      <td>Offer2</td>\n",
       "      <td>Branch</td>\n",
       "      <td>273.018929</td>\n",
       "      <td>Four-Door Car</td>\n",
       "      <td>Medsize</td>\n",
       "    </tr>\n",
       "    <tr>\n",
       "      <th>9674</th>\n",
       "      <td>TL39050</td>\n",
       "      <td>Arizona</td>\n",
       "      <td>23893.304100</td>\n",
       "      <td>No</td>\n",
       "      <td>Extended</td>\n",
       "      <td>Bachelor</td>\n",
       "      <td>2/6/11</td>\n",
       "      <td>Employed</td>\n",
       "      <td>F</td>\n",
       "      <td>39837</td>\n",
       "      <td>...</td>\n",
       "      <td>63</td>\n",
       "      <td>0.000000</td>\n",
       "      <td>2</td>\n",
       "      <td>Corporate Auto</td>\n",
       "      <td>Corporate L3</td>\n",
       "      <td>Offer1</td>\n",
       "      <td>Web</td>\n",
       "      <td>381.306996</td>\n",
       "      <td>Luxury SUV</td>\n",
       "      <td>Medsize</td>\n",
       "    </tr>\n",
       "    <tr>\n",
       "      <th>9675</th>\n",
       "      <td>WA60547</td>\n",
       "      <td>California</td>\n",
       "      <td>11971.977650</td>\n",
       "      <td>No</td>\n",
       "      <td>Premium</td>\n",
       "      <td>College</td>\n",
       "      <td>2/13/11</td>\n",
       "      <td>Employed</td>\n",
       "      <td>F</td>\n",
       "      <td>64195</td>\n",
       "      <td>...</td>\n",
       "      <td>27</td>\n",
       "      <td>4.000000</td>\n",
       "      <td>6</td>\n",
       "      <td>Personal Auto</td>\n",
       "      <td>Personal L1</td>\n",
       "      <td>Offer1</td>\n",
       "      <td>Branch</td>\n",
       "      <td>618.288849</td>\n",
       "      <td>SUV</td>\n",
       "      <td>Medsize</td>\n",
       "    </tr>\n",
       "  </tbody>\n",
       "</table>\n",
       "<p>9676 rows × 24 columns</p>\n",
       "</div>"
      ],
      "text/plain": [
       "     CUSTOMER       STATE  CUSTOMER_LIFETIME_VALUE RESPONSE  COVERAGE  \\\n",
       "0     DK49336     Arizona              4809.216960       No     Basic   \n",
       "1     KX64629  California              2228.525238       No     Basic   \n",
       "2     LZ68649  Washington             14947.917300       No     Basic   \n",
       "3     XL78013      Oregon             22332.439460      Yes  Extended   \n",
       "4     QA50777      Oregon              9025.067525       No   Premium   \n",
       "...       ...         ...                      ...      ...       ...   \n",
       "9671  QI63521      Nevada             19228.463620       No     Basic   \n",
       "9672  FE99816      Nevada             15563.369440       No   Premium   \n",
       "9673  KX53892      Oregon              5259.444853       No     Basic   \n",
       "9674  TL39050     Arizona             23893.304100       No  Extended   \n",
       "9675  WA60547  California             11971.977650       No   Premium   \n",
       "\n",
       "                 EDUCATION EFFECTIVE_TO_DATE EMPLOYMENT_STATUS GENDER  INCOME  \\\n",
       "0                  College           2/18/11          Employed      M   48029   \n",
       "1                  College           1/18/11        Unemployed      F       0   \n",
       "2                 Bachelor           2/10/11          Employed      M   22139   \n",
       "3                  College           1/11/11          Employed      M   49078   \n",
       "4                 Bachelor           1/17/11     Medical Leave      F   23675   \n",
       "...                    ...               ...               ...    ...     ...   \n",
       "9671  High School or Below           2/24/11        Unemployed      M       0   \n",
       "9672              Bachelor           1/19/11        Unemployed      F       0   \n",
       "9673               College            1/6/11          Employed      F   61146   \n",
       "9674              Bachelor            2/6/11          Employed      F   39837   \n",
       "9675               College           2/13/11          Employed      F   64195   \n",
       "\n",
       "      ... MONTHS_SINCE_POLICY_INCEPTION NUMBER_OF_OPEN_COMPLAINTS  \\\n",
       "0     ...                            52                  0.000000   \n",
       "1     ...                            26                  0.000000   \n",
       "2     ...                            31                  0.000000   \n",
       "3     ...                             3                  0.000000   \n",
       "4     ...                            31                  0.383939   \n",
       "...   ...                           ...                       ...   \n",
       "9671  ...                            32                  0.000000   \n",
       "9672  ...                            40                  0.383939   \n",
       "9673  ...                            68                  0.000000   \n",
       "9674  ...                            63                  0.000000   \n",
       "9675  ...                            27                  4.000000   \n",
       "\n",
       "      NUMBER_OF_POLICIES     POLICY_TYPE        POLICY  RENEW_OFFER_TYPE  \\\n",
       "0                      9  Corporate Auto  Corporate L3            Offer3   \n",
       "1                      1   Personal Auto   Personal L3            Offer4   \n",
       "2                      2   Personal Auto   Personal L3            Offer3   \n",
       "3                      2  Corporate Auto  Corporate L3            Offer2   \n",
       "4                      7   Personal Auto   Personal L2            Offer1   \n",
       "...                  ...             ...           ...               ...   \n",
       "9671                   2   Personal Auto   Personal L2            Offer1   \n",
       "9672                   7   Personal Auto   Personal L1            Offer3   \n",
       "9673                   6   Personal Auto   Personal L3            Offer2   \n",
       "9674                   2  Corporate Auto  Corporate L3            Offer1   \n",
       "9675                   6   Personal Auto   Personal L1            Offer1   \n",
       "\n",
       "      SALES_CHANNEL TOTAL_CLAIM_AMOUNT  VEHICLE_CLASS VEHICLE_SIZE  \n",
       "0             Agent         292.800000  Four-Door Car      Medsize  \n",
       "1       Call Center         744.924331  Four-Door Car      Medsize  \n",
       "2       Call Center         480.000000            SUV      Medsize  \n",
       "3            Branch         484.013411  Four-Door Car      Medsize  \n",
       "4            Branch         707.925645  Four-Door Car      Medsize  \n",
       "...             ...                ...            ...          ...  \n",
       "9671         Branch         897.600000     Luxury SUV      Medsize  \n",
       "9672            Web        1214.400000     Luxury Car      Medsize  \n",
       "9673         Branch         273.018929  Four-Door Car      Medsize  \n",
       "9674            Web         381.306996     Luxury SUV      Medsize  \n",
       "9675         Branch         618.288849            SUV      Medsize  \n",
       "\n",
       "[9676 rows x 24 columns]"
      ]
     },
     "execution_count": 19,
     "metadata": {},
     "output_type": "execute_result"
    }
   ],
   "source": [
    "clean_data = clean_data.reset_index(drop=True)\n",
    "clean_data"
   ]
  },
  {
   "cell_type": "markdown",
   "id": "31dbbe7e",
   "metadata": {},
   "source": [
    "**Datetime format** - Extract the months from the dataset and store in a separate column. Then filter the data to show only the information for the first quarter , ie. January, February and March. Hint: If data from March does not exist, consider only January and February.\n"
   ]
  },
  {
   "cell_type": "code",
   "execution_count": 20,
   "id": "54e9437b",
   "metadata": {},
   "outputs": [
    {
     "data": {
      "text/plain": [
       "0      2011-02-18\n",
       "1      2011-01-18\n",
       "2      2011-02-10\n",
       "3      2011-01-11\n",
       "4      2011-01-17\n",
       "          ...    \n",
       "9671   2011-02-24\n",
       "9672   2011-01-19\n",
       "9673   2011-01-06\n",
       "9674   2011-02-06\n",
       "9675   2011-02-13\n",
       "Name: EFFECTIVE_TO_DATE, Length: 9676, dtype: datetime64[ns]"
      ]
     },
     "execution_count": 20,
     "metadata": {},
     "output_type": "execute_result"
    }
   ],
   "source": [
    "clean_data['EFFECTIVE_TO_DATE'] = pd.to_datetime(clean_data['EFFECTIVE_TO_DATE'], errors='coerce')\n",
    "clean_data['EFFECTIVE_TO_DATE']"
   ]
  },
  {
   "cell_type": "code",
   "execution_count": 21,
   "id": "be80a512",
   "metadata": {},
   "outputs": [
    {
     "data": {
      "text/plain": [
       "0       2\n",
       "1       1\n",
       "2       2\n",
       "3       1\n",
       "4       1\n",
       "       ..\n",
       "9671    2\n",
       "9672    1\n",
       "9673    1\n",
       "9674    2\n",
       "9675    2\n",
       "Name: MONTH, Length: 9676, dtype: int64"
      ]
     },
     "execution_count": 21,
     "metadata": {},
     "output_type": "execute_result"
    }
   ],
   "source": [
    "clean_data['MONTH'] = clean_data['EFFECTIVE_TO_DATE'].dt.month\n",
    "clean_data['MONTH']"
   ]
  },
  {
   "cell_type": "code",
   "execution_count": 22,
   "id": "5e37a5a8",
   "metadata": {},
   "outputs": [
    {
     "data": {
      "text/html": [
       "<div>\n",
       "<style scoped>\n",
       "    .dataframe tbody tr th:only-of-type {\n",
       "        vertical-align: middle;\n",
       "    }\n",
       "\n",
       "    .dataframe tbody tr th {\n",
       "        vertical-align: top;\n",
       "    }\n",
       "\n",
       "    .dataframe thead th {\n",
       "        text-align: right;\n",
       "    }\n",
       "</style>\n",
       "<table border=\"1\" class=\"dataframe\">\n",
       "  <thead>\n",
       "    <tr style=\"text-align: right;\">\n",
       "      <th></th>\n",
       "      <th>CUSTOMER</th>\n",
       "      <th>STATE</th>\n",
       "      <th>CUSTOMER_LIFETIME_VALUE</th>\n",
       "      <th>RESPONSE</th>\n",
       "      <th>COVERAGE</th>\n",
       "      <th>EDUCATION</th>\n",
       "      <th>EFFECTIVE_TO_DATE</th>\n",
       "      <th>EMPLOYMENT_STATUS</th>\n",
       "      <th>GENDER</th>\n",
       "      <th>INCOME</th>\n",
       "      <th>...</th>\n",
       "      <th>NUMBER_OF_OPEN_COMPLAINTS</th>\n",
       "      <th>NUMBER_OF_POLICIES</th>\n",
       "      <th>POLICY_TYPE</th>\n",
       "      <th>POLICY</th>\n",
       "      <th>RENEW_OFFER_TYPE</th>\n",
       "      <th>SALES_CHANNEL</th>\n",
       "      <th>TOTAL_CLAIM_AMOUNT</th>\n",
       "      <th>VEHICLE_CLASS</th>\n",
       "      <th>VEHICLE_SIZE</th>\n",
       "      <th>MONTH</th>\n",
       "    </tr>\n",
       "  </thead>\n",
       "  <tbody>\n",
       "    <tr>\n",
       "      <th>0</th>\n",
       "      <td>DK49336</td>\n",
       "      <td>Arizona</td>\n",
       "      <td>4809.216960</td>\n",
       "      <td>No</td>\n",
       "      <td>Basic</td>\n",
       "      <td>College</td>\n",
       "      <td>2011-02-18</td>\n",
       "      <td>Employed</td>\n",
       "      <td>M</td>\n",
       "      <td>48029</td>\n",
       "      <td>...</td>\n",
       "      <td>0.000000</td>\n",
       "      <td>9</td>\n",
       "      <td>Corporate Auto</td>\n",
       "      <td>Corporate L3</td>\n",
       "      <td>Offer3</td>\n",
       "      <td>Agent</td>\n",
       "      <td>292.800000</td>\n",
       "      <td>Four-Door Car</td>\n",
       "      <td>Medsize</td>\n",
       "      <td>2</td>\n",
       "    </tr>\n",
       "    <tr>\n",
       "      <th>1</th>\n",
       "      <td>KX64629</td>\n",
       "      <td>California</td>\n",
       "      <td>2228.525238</td>\n",
       "      <td>No</td>\n",
       "      <td>Basic</td>\n",
       "      <td>College</td>\n",
       "      <td>2011-01-18</td>\n",
       "      <td>Unemployed</td>\n",
       "      <td>F</td>\n",
       "      <td>0</td>\n",
       "      <td>...</td>\n",
       "      <td>0.000000</td>\n",
       "      <td>1</td>\n",
       "      <td>Personal Auto</td>\n",
       "      <td>Personal L3</td>\n",
       "      <td>Offer4</td>\n",
       "      <td>Call Center</td>\n",
       "      <td>744.924331</td>\n",
       "      <td>Four-Door Car</td>\n",
       "      <td>Medsize</td>\n",
       "      <td>1</td>\n",
       "    </tr>\n",
       "    <tr>\n",
       "      <th>2</th>\n",
       "      <td>LZ68649</td>\n",
       "      <td>Washington</td>\n",
       "      <td>14947.917300</td>\n",
       "      <td>No</td>\n",
       "      <td>Basic</td>\n",
       "      <td>Bachelor</td>\n",
       "      <td>2011-02-10</td>\n",
       "      <td>Employed</td>\n",
       "      <td>M</td>\n",
       "      <td>22139</td>\n",
       "      <td>...</td>\n",
       "      <td>0.000000</td>\n",
       "      <td>2</td>\n",
       "      <td>Personal Auto</td>\n",
       "      <td>Personal L3</td>\n",
       "      <td>Offer3</td>\n",
       "      <td>Call Center</td>\n",
       "      <td>480.000000</td>\n",
       "      <td>SUV</td>\n",
       "      <td>Medsize</td>\n",
       "      <td>2</td>\n",
       "    </tr>\n",
       "    <tr>\n",
       "      <th>3</th>\n",
       "      <td>XL78013</td>\n",
       "      <td>Oregon</td>\n",
       "      <td>22332.439460</td>\n",
       "      <td>Yes</td>\n",
       "      <td>Extended</td>\n",
       "      <td>College</td>\n",
       "      <td>2011-01-11</td>\n",
       "      <td>Employed</td>\n",
       "      <td>M</td>\n",
       "      <td>49078</td>\n",
       "      <td>...</td>\n",
       "      <td>0.000000</td>\n",
       "      <td>2</td>\n",
       "      <td>Corporate Auto</td>\n",
       "      <td>Corporate L3</td>\n",
       "      <td>Offer2</td>\n",
       "      <td>Branch</td>\n",
       "      <td>484.013411</td>\n",
       "      <td>Four-Door Car</td>\n",
       "      <td>Medsize</td>\n",
       "      <td>1</td>\n",
       "    </tr>\n",
       "    <tr>\n",
       "      <th>4</th>\n",
       "      <td>QA50777</td>\n",
       "      <td>Oregon</td>\n",
       "      <td>9025.067525</td>\n",
       "      <td>No</td>\n",
       "      <td>Premium</td>\n",
       "      <td>Bachelor</td>\n",
       "      <td>2011-01-17</td>\n",
       "      <td>Medical Leave</td>\n",
       "      <td>F</td>\n",
       "      <td>23675</td>\n",
       "      <td>...</td>\n",
       "      <td>0.383939</td>\n",
       "      <td>7</td>\n",
       "      <td>Personal Auto</td>\n",
       "      <td>Personal L2</td>\n",
       "      <td>Offer1</td>\n",
       "      <td>Branch</td>\n",
       "      <td>707.925645</td>\n",
       "      <td>Four-Door Car</td>\n",
       "      <td>Medsize</td>\n",
       "      <td>1</td>\n",
       "    </tr>\n",
       "    <tr>\n",
       "      <th>...</th>\n",
       "      <td>...</td>\n",
       "      <td>...</td>\n",
       "      <td>...</td>\n",
       "      <td>...</td>\n",
       "      <td>...</td>\n",
       "      <td>...</td>\n",
       "      <td>...</td>\n",
       "      <td>...</td>\n",
       "      <td>...</td>\n",
       "      <td>...</td>\n",
       "      <td>...</td>\n",
       "      <td>...</td>\n",
       "      <td>...</td>\n",
       "      <td>...</td>\n",
       "      <td>...</td>\n",
       "      <td>...</td>\n",
       "      <td>...</td>\n",
       "      <td>...</td>\n",
       "      <td>...</td>\n",
       "      <td>...</td>\n",
       "      <td>...</td>\n",
       "    </tr>\n",
       "    <tr>\n",
       "      <th>9671</th>\n",
       "      <td>QI63521</td>\n",
       "      <td>Nevada</td>\n",
       "      <td>19228.463620</td>\n",
       "      <td>No</td>\n",
       "      <td>Basic</td>\n",
       "      <td>High School or Below</td>\n",
       "      <td>2011-02-24</td>\n",
       "      <td>Unemployed</td>\n",
       "      <td>M</td>\n",
       "      <td>0</td>\n",
       "      <td>...</td>\n",
       "      <td>0.000000</td>\n",
       "      <td>2</td>\n",
       "      <td>Personal Auto</td>\n",
       "      <td>Personal L2</td>\n",
       "      <td>Offer1</td>\n",
       "      <td>Branch</td>\n",
       "      <td>897.600000</td>\n",
       "      <td>Luxury SUV</td>\n",
       "      <td>Medsize</td>\n",
       "      <td>2</td>\n",
       "    </tr>\n",
       "    <tr>\n",
       "      <th>9672</th>\n",
       "      <td>FE99816</td>\n",
       "      <td>Nevada</td>\n",
       "      <td>15563.369440</td>\n",
       "      <td>No</td>\n",
       "      <td>Premium</td>\n",
       "      <td>Bachelor</td>\n",
       "      <td>2011-01-19</td>\n",
       "      <td>Unemployed</td>\n",
       "      <td>F</td>\n",
       "      <td>0</td>\n",
       "      <td>...</td>\n",
       "      <td>0.383939</td>\n",
       "      <td>7</td>\n",
       "      <td>Personal Auto</td>\n",
       "      <td>Personal L1</td>\n",
       "      <td>Offer3</td>\n",
       "      <td>Web</td>\n",
       "      <td>1214.400000</td>\n",
       "      <td>Luxury Car</td>\n",
       "      <td>Medsize</td>\n",
       "      <td>1</td>\n",
       "    </tr>\n",
       "    <tr>\n",
       "      <th>9673</th>\n",
       "      <td>KX53892</td>\n",
       "      <td>Oregon</td>\n",
       "      <td>5259.444853</td>\n",
       "      <td>No</td>\n",
       "      <td>Basic</td>\n",
       "      <td>College</td>\n",
       "      <td>2011-01-06</td>\n",
       "      <td>Employed</td>\n",
       "      <td>F</td>\n",
       "      <td>61146</td>\n",
       "      <td>...</td>\n",
       "      <td>0.000000</td>\n",
       "      <td>6</td>\n",
       "      <td>Personal Auto</td>\n",
       "      <td>Personal L3</td>\n",
       "      <td>Offer2</td>\n",
       "      <td>Branch</td>\n",
       "      <td>273.018929</td>\n",
       "      <td>Four-Door Car</td>\n",
       "      <td>Medsize</td>\n",
       "      <td>1</td>\n",
       "    </tr>\n",
       "    <tr>\n",
       "      <th>9674</th>\n",
       "      <td>TL39050</td>\n",
       "      <td>Arizona</td>\n",
       "      <td>23893.304100</td>\n",
       "      <td>No</td>\n",
       "      <td>Extended</td>\n",
       "      <td>Bachelor</td>\n",
       "      <td>2011-02-06</td>\n",
       "      <td>Employed</td>\n",
       "      <td>F</td>\n",
       "      <td>39837</td>\n",
       "      <td>...</td>\n",
       "      <td>0.000000</td>\n",
       "      <td>2</td>\n",
       "      <td>Corporate Auto</td>\n",
       "      <td>Corporate L3</td>\n",
       "      <td>Offer1</td>\n",
       "      <td>Web</td>\n",
       "      <td>381.306996</td>\n",
       "      <td>Luxury SUV</td>\n",
       "      <td>Medsize</td>\n",
       "      <td>2</td>\n",
       "    </tr>\n",
       "    <tr>\n",
       "      <th>9675</th>\n",
       "      <td>WA60547</td>\n",
       "      <td>California</td>\n",
       "      <td>11971.977650</td>\n",
       "      <td>No</td>\n",
       "      <td>Premium</td>\n",
       "      <td>College</td>\n",
       "      <td>2011-02-13</td>\n",
       "      <td>Employed</td>\n",
       "      <td>F</td>\n",
       "      <td>64195</td>\n",
       "      <td>...</td>\n",
       "      <td>4.000000</td>\n",
       "      <td>6</td>\n",
       "      <td>Personal Auto</td>\n",
       "      <td>Personal L1</td>\n",
       "      <td>Offer1</td>\n",
       "      <td>Branch</td>\n",
       "      <td>618.288849</td>\n",
       "      <td>SUV</td>\n",
       "      <td>Medsize</td>\n",
       "      <td>2</td>\n",
       "    </tr>\n",
       "  </tbody>\n",
       "</table>\n",
       "<p>9676 rows × 25 columns</p>\n",
       "</div>"
      ],
      "text/plain": [
       "     CUSTOMER       STATE  CUSTOMER_LIFETIME_VALUE RESPONSE  COVERAGE  \\\n",
       "0     DK49336     Arizona              4809.216960       No     Basic   \n",
       "1     KX64629  California              2228.525238       No     Basic   \n",
       "2     LZ68649  Washington             14947.917300       No     Basic   \n",
       "3     XL78013      Oregon             22332.439460      Yes  Extended   \n",
       "4     QA50777      Oregon              9025.067525       No   Premium   \n",
       "...       ...         ...                      ...      ...       ...   \n",
       "9671  QI63521      Nevada             19228.463620       No     Basic   \n",
       "9672  FE99816      Nevada             15563.369440       No   Premium   \n",
       "9673  KX53892      Oregon              5259.444853       No     Basic   \n",
       "9674  TL39050     Arizona             23893.304100       No  Extended   \n",
       "9675  WA60547  California             11971.977650       No   Premium   \n",
       "\n",
       "                 EDUCATION EFFECTIVE_TO_DATE EMPLOYMENT_STATUS GENDER  INCOME  \\\n",
       "0                  College        2011-02-18          Employed      M   48029   \n",
       "1                  College        2011-01-18        Unemployed      F       0   \n",
       "2                 Bachelor        2011-02-10          Employed      M   22139   \n",
       "3                  College        2011-01-11          Employed      M   49078   \n",
       "4                 Bachelor        2011-01-17     Medical Leave      F   23675   \n",
       "...                    ...               ...               ...    ...     ...   \n",
       "9671  High School or Below        2011-02-24        Unemployed      M       0   \n",
       "9672              Bachelor        2011-01-19        Unemployed      F       0   \n",
       "9673               College        2011-01-06          Employed      F   61146   \n",
       "9674              Bachelor        2011-02-06          Employed      F   39837   \n",
       "9675               College        2011-02-13          Employed      F   64195   \n",
       "\n",
       "      ... NUMBER_OF_OPEN_COMPLAINTS NUMBER_OF_POLICIES     POLICY_TYPE  \\\n",
       "0     ...                  0.000000                  9  Corporate Auto   \n",
       "1     ...                  0.000000                  1   Personal Auto   \n",
       "2     ...                  0.000000                  2   Personal Auto   \n",
       "3     ...                  0.000000                  2  Corporate Auto   \n",
       "4     ...                  0.383939                  7   Personal Auto   \n",
       "...   ...                       ...                ...             ...   \n",
       "9671  ...                  0.000000                  2   Personal Auto   \n",
       "9672  ...                  0.383939                  7   Personal Auto   \n",
       "9673  ...                  0.000000                  6   Personal Auto   \n",
       "9674  ...                  0.000000                  2  Corporate Auto   \n",
       "9675  ...                  4.000000                  6   Personal Auto   \n",
       "\n",
       "            POLICY  RENEW_OFFER_TYPE  SALES_CHANNEL  TOTAL_CLAIM_AMOUNT  \\\n",
       "0     Corporate L3            Offer3          Agent          292.800000   \n",
       "1      Personal L3            Offer4    Call Center          744.924331   \n",
       "2      Personal L3            Offer3    Call Center          480.000000   \n",
       "3     Corporate L3            Offer2         Branch          484.013411   \n",
       "4      Personal L2            Offer1         Branch          707.925645   \n",
       "...            ...               ...            ...                 ...   \n",
       "9671   Personal L2            Offer1         Branch          897.600000   \n",
       "9672   Personal L1            Offer3            Web         1214.400000   \n",
       "9673   Personal L3            Offer2         Branch          273.018929   \n",
       "9674  Corporate L3            Offer1            Web          381.306996   \n",
       "9675   Personal L1            Offer1         Branch          618.288849   \n",
       "\n",
       "      VEHICLE_CLASS VEHICLE_SIZE MONTH  \n",
       "0     Four-Door Car      Medsize     2  \n",
       "1     Four-Door Car      Medsize     1  \n",
       "2               SUV      Medsize     2  \n",
       "3     Four-Door Car      Medsize     1  \n",
       "4     Four-Door Car      Medsize     1  \n",
       "...             ...          ...   ...  \n",
       "9671     Luxury SUV      Medsize     2  \n",
       "9672     Luxury Car      Medsize     1  \n",
       "9673  Four-Door Car      Medsize     1  \n",
       "9674     Luxury SUV      Medsize     2  \n",
       "9675            SUV      Medsize     2  \n",
       "\n",
       "[9676 rows x 25 columns]"
      ]
     },
     "execution_count": 22,
     "metadata": {},
     "output_type": "execute_result"
    }
   ],
   "source": [
    "clean_data[clean_data['MONTH']<4]"
   ]
  },
  {
   "cell_type": "markdown",
   "id": "6d3268a7",
   "metadata": {},
   "source": [
    "BONUS: Put all the previously mentioned data transformations into a function."
   ]
  },
  {
   "cell_type": "markdown",
   "id": "2cd74e1d",
   "metadata": {},
   "source": [
    "# **Round 3**"
   ]
  },
  {
   "cell_type": "code",
   "execution_count": 23,
   "id": "d1a0e03d",
   "metadata": {},
   "outputs": [],
   "source": [
    "import matplotlib.pyplot as plt\n",
    "import seaborn as sns \n",
    "%matplotlib inline"
   ]
  },
  {
   "cell_type": "markdown",
   "id": "426c467c",
   "metadata": {},
   "source": [
    "Show DataFrame info.\n"
   ]
  },
  {
   "cell_type": "code",
   "execution_count": 24,
   "id": "0e5031d5",
   "metadata": {},
   "outputs": [
    {
     "name": "stdout",
     "output_type": "stream",
     "text": [
      "<class 'pandas.core.frame.DataFrame'>\n",
      "RangeIndex: 9676 entries, 0 to 9675\n",
      "Data columns (total 25 columns):\n",
      " #   Column                         Non-Null Count  Dtype         \n",
      "---  ------                         --------------  -----         \n",
      " 0   CUSTOMER                       9676 non-null   object        \n",
      " 1   STATE                          9676 non-null   object        \n",
      " 2   CUSTOMER_LIFETIME_VALUE        9676 non-null   float64       \n",
      " 3   RESPONSE                       9676 non-null   object        \n",
      " 4   COVERAGE                       9676 non-null   object        \n",
      " 5   EDUCATION                      9676 non-null   object        \n",
      " 6   EFFECTIVE_TO_DATE              9676 non-null   datetime64[ns]\n",
      " 7   EMPLOYMENT_STATUS              9676 non-null   object        \n",
      " 8   GENDER                         9676 non-null   object        \n",
      " 9   INCOME                         9676 non-null   int64         \n",
      " 10  LOCATION_CODE                  9676 non-null   object        \n",
      " 11  MARITAL_STATUS                 9676 non-null   object        \n",
      " 12  MONTHLY_PREMIUM_AUTO           9676 non-null   int64         \n",
      " 13  MONTHS_SINCE_LAST_CLAIM        9676 non-null   float64       \n",
      " 14  MONTHS_SINCE_POLICY_INCEPTION  9676 non-null   int64         \n",
      " 15  NUMBER_OF_OPEN_COMPLAINTS      9676 non-null   float64       \n",
      " 16  NUMBER_OF_POLICIES             9676 non-null   int64         \n",
      " 17  POLICY_TYPE                    9676 non-null   object        \n",
      " 18  POLICY                         9676 non-null   object        \n",
      " 19  RENEW_OFFER_TYPE               9676 non-null   object        \n",
      " 20  SALES_CHANNEL                  9676 non-null   object        \n",
      " 21  TOTAL_CLAIM_AMOUNT             9676 non-null   float64       \n",
      " 22  VEHICLE_CLASS                  9676 non-null   object        \n",
      " 23  VEHICLE_SIZE                   9676 non-null   object        \n",
      " 24  MONTH                          9676 non-null   int64         \n",
      "dtypes: datetime64[ns](1), float64(4), int64(5), object(15)\n",
      "memory usage: 1.8+ MB\n"
     ]
    }
   ],
   "source": [
    "clean_data.info()"
   ]
  },
  {
   "cell_type": "markdown",
   "id": "1665ee73",
   "metadata": {},
   "source": [
    "Describe DataFrame.\n"
   ]
  },
  {
   "cell_type": "code",
   "execution_count": 25,
   "id": "ae2d5e23",
   "metadata": {},
   "outputs": [
    {
     "data": {
      "text/html": [
       "<div>\n",
       "<style scoped>\n",
       "    .dataframe tbody tr th:only-of-type {\n",
       "        vertical-align: middle;\n",
       "    }\n",
       "\n",
       "    .dataframe tbody tr th {\n",
       "        vertical-align: top;\n",
       "    }\n",
       "\n",
       "    .dataframe thead th {\n",
       "        text-align: right;\n",
       "    }\n",
       "</style>\n",
       "<table border=\"1\" class=\"dataframe\">\n",
       "  <thead>\n",
       "    <tr style=\"text-align: right;\">\n",
       "      <th></th>\n",
       "      <th>count</th>\n",
       "      <th>mean</th>\n",
       "      <th>std</th>\n",
       "      <th>min</th>\n",
       "      <th>25%</th>\n",
       "      <th>50%</th>\n",
       "      <th>75%</th>\n",
       "      <th>max</th>\n",
       "    </tr>\n",
       "  </thead>\n",
       "  <tbody>\n",
       "    <tr>\n",
       "      <th>CUSTOMER_LIFETIME_VALUE</th>\n",
       "      <td>9676.0</td>\n",
       "      <td>7992.786138</td>\n",
       "      <td>6829.201406</td>\n",
       "      <td>1898.007675</td>\n",
       "      <td>4010.669676</td>\n",
       "      <td>5782.095838</td>\n",
       "      <td>8983.147788</td>\n",
       "      <td>83325.381190</td>\n",
       "    </tr>\n",
       "    <tr>\n",
       "      <th>INCOME</th>\n",
       "      <td>9676.0</td>\n",
       "      <td>37560.680860</td>\n",
       "      <td>30349.686902</td>\n",
       "      <td>0.000000</td>\n",
       "      <td>0.000000</td>\n",
       "      <td>33806.000000</td>\n",
       "      <td>62264.250000</td>\n",
       "      <td>99981.000000</td>\n",
       "    </tr>\n",
       "    <tr>\n",
       "      <th>MONTHLY_PREMIUM_AUTO</th>\n",
       "      <td>9676.0</td>\n",
       "      <td>93.269016</td>\n",
       "      <td>34.400115</td>\n",
       "      <td>61.000000</td>\n",
       "      <td>68.000000</td>\n",
       "      <td>83.000000</td>\n",
       "      <td>109.000000</td>\n",
       "      <td>298.000000</td>\n",
       "    </tr>\n",
       "    <tr>\n",
       "      <th>MONTHS_SINCE_LAST_CLAIM</th>\n",
       "      <td>9676.0</td>\n",
       "      <td>15.099622</td>\n",
       "      <td>9.787041</td>\n",
       "      <td>0.000000</td>\n",
       "      <td>7.000000</td>\n",
       "      <td>15.000000</td>\n",
       "      <td>23.000000</td>\n",
       "      <td>35.000000</td>\n",
       "    </tr>\n",
       "    <tr>\n",
       "      <th>MONTHS_SINCE_POLICY_INCEPTION</th>\n",
       "      <td>9676.0</td>\n",
       "      <td>48.065316</td>\n",
       "      <td>27.911300</td>\n",
       "      <td>0.000000</td>\n",
       "      <td>24.000000</td>\n",
       "      <td>48.000000</td>\n",
       "      <td>71.000000</td>\n",
       "      <td>99.000000</td>\n",
       "    </tr>\n",
       "    <tr>\n",
       "      <th>NUMBER_OF_OPEN_COMPLAINTS</th>\n",
       "      <td>9676.0</td>\n",
       "      <td>0.384363</td>\n",
       "      <td>0.884516</td>\n",
       "      <td>0.000000</td>\n",
       "      <td>0.000000</td>\n",
       "      <td>0.000000</td>\n",
       "      <td>0.383939</td>\n",
       "      <td>5.000000</td>\n",
       "    </tr>\n",
       "    <tr>\n",
       "      <th>NUMBER_OF_POLICIES</th>\n",
       "      <td>9676.0</td>\n",
       "      <td>2.975920</td>\n",
       "      <td>2.395978</td>\n",
       "      <td>1.000000</td>\n",
       "      <td>1.000000</td>\n",
       "      <td>2.000000</td>\n",
       "      <td>4.000000</td>\n",
       "      <td>9.000000</td>\n",
       "    </tr>\n",
       "    <tr>\n",
       "      <th>TOTAL_CLAIM_AMOUNT</th>\n",
       "      <td>9676.0</td>\n",
       "      <td>435.348164</td>\n",
       "      <td>291.624841</td>\n",
       "      <td>0.099007</td>\n",
       "      <td>272.152587</td>\n",
       "      <td>384.000000</td>\n",
       "      <td>550.203407</td>\n",
       "      <td>2893.239678</td>\n",
       "    </tr>\n",
       "    <tr>\n",
       "      <th>MONTH</th>\n",
       "      <td>9676.0</td>\n",
       "      <td>1.465275</td>\n",
       "      <td>0.498818</td>\n",
       "      <td>1.000000</td>\n",
       "      <td>1.000000</td>\n",
       "      <td>1.000000</td>\n",
       "      <td>2.000000</td>\n",
       "      <td>2.000000</td>\n",
       "    </tr>\n",
       "  </tbody>\n",
       "</table>\n",
       "</div>"
      ],
      "text/plain": [
       "                                count          mean           std  \\\n",
       "CUSTOMER_LIFETIME_VALUE        9676.0   7992.786138   6829.201406   \n",
       "INCOME                         9676.0  37560.680860  30349.686902   \n",
       "MONTHLY_PREMIUM_AUTO           9676.0     93.269016     34.400115   \n",
       "MONTHS_SINCE_LAST_CLAIM        9676.0     15.099622      9.787041   \n",
       "MONTHS_SINCE_POLICY_INCEPTION  9676.0     48.065316     27.911300   \n",
       "NUMBER_OF_OPEN_COMPLAINTS      9676.0      0.384363      0.884516   \n",
       "NUMBER_OF_POLICIES             9676.0      2.975920      2.395978   \n",
       "TOTAL_CLAIM_AMOUNT             9676.0    435.348164    291.624841   \n",
       "MONTH                          9676.0      1.465275      0.498818   \n",
       "\n",
       "                                       min          25%           50%  \\\n",
       "CUSTOMER_LIFETIME_VALUE        1898.007675  4010.669676   5782.095838   \n",
       "INCOME                            0.000000     0.000000  33806.000000   \n",
       "MONTHLY_PREMIUM_AUTO             61.000000    68.000000     83.000000   \n",
       "MONTHS_SINCE_LAST_CLAIM           0.000000     7.000000     15.000000   \n",
       "MONTHS_SINCE_POLICY_INCEPTION     0.000000    24.000000     48.000000   \n",
       "NUMBER_OF_OPEN_COMPLAINTS         0.000000     0.000000      0.000000   \n",
       "NUMBER_OF_POLICIES                1.000000     1.000000      2.000000   \n",
       "TOTAL_CLAIM_AMOUNT                0.099007   272.152587    384.000000   \n",
       "MONTH                             1.000000     1.000000      1.000000   \n",
       "\n",
       "                                        75%           max  \n",
       "CUSTOMER_LIFETIME_VALUE         8983.147788  83325.381190  \n",
       "INCOME                         62264.250000  99981.000000  \n",
       "MONTHLY_PREMIUM_AUTO             109.000000    298.000000  \n",
       "MONTHS_SINCE_LAST_CLAIM           23.000000     35.000000  \n",
       "MONTHS_SINCE_POLICY_INCEPTION     71.000000     99.000000  \n",
       "NUMBER_OF_OPEN_COMPLAINTS          0.383939      5.000000  \n",
       "NUMBER_OF_POLICIES                 4.000000      9.000000  \n",
       "TOTAL_CLAIM_AMOUNT               550.203407   2893.239678  \n",
       "MONTH                              2.000000      2.000000  "
      ]
     },
     "execution_count": 25,
     "metadata": {},
     "output_type": "execute_result"
    }
   ],
   "source": [
    "clean_data.describe().T"
   ]
  },
  {
   "cell_type": "markdown",
   "id": "75b068a6",
   "metadata": {},
   "source": [
    "Show a plot of the total number of responses.\n"
   ]
  },
  {
   "cell_type": "code",
   "execution_count": 26,
   "id": "2de68829",
   "metadata": {},
   "outputs": [
    {
     "data": {
      "image/png": "[encoded data removed]",
      "text/plain": [
       "<Figure size 360x360 with 1 Axes>"
      ]
     },
     "metadata": {
      "needs_background": "light"
     },
     "output_type": "display_data"
    }
   ],
   "source": [
    "sns.displot(clean_data[\"RESPONSE\"])\n",
    "plt.show()"
   ]
  },
  {
   "cell_type": "markdown",
   "id": "6da77e86",
   "metadata": {},
   "source": [
    "Show a plot of the response rate by the sales channel.\n"
   ]
  },
  {
   "cell_type": "markdown",
   "id": "ee3f7596",
   "metadata": {},
   "source": [
    "I group the info by channels and responses and save it into a Series"
   ]
  },
  {
   "cell_type": "code",
   "execution_count": 27,
   "id": "9f4d6912",
   "metadata": {},
   "outputs": [
    {
     "data": {
      "text/plain": [
       "SALES_CHANNEL  RESPONSE\n",
       "Agent          No          2977\n",
       "               Yes          699\n",
       "Branch         No          2391\n",
       "               Yes          306\n",
       "Call Center    No          1690\n",
       "               Yes          203\n",
       "Web            No          1241\n",
       "               Yes          169\n",
       "dtype: int64"
      ]
     },
     "metadata": {},
     "output_type": "display_data"
    },
    {
     "data": {
      "text/plain": [
       "pandas.core.series.Series"
      ]
     },
     "execution_count": 27,
     "metadata": {},
     "output_type": "execute_result"
    }
   ],
   "source": [
    "table = clean_data.groupby(['SALES_CHANNEL', 'RESPONSE']).size()\n",
    "display(table)\n",
    "\n",
    "type(table)\n"
   ]
  },
  {
   "cell_type": "markdown",
   "id": "7762c104",
   "metadata": {},
   "source": [
    "I calculate the rates in percentages in a for loop to store them in a list"
   ]
  },
  {
   "cell_type": "code",
   "execution_count": 28,
   "id": "a76effac",
   "metadata": {},
   "outputs": [],
   "source": [
    "def find_rates(table): \n",
    "    #Finds the rate of one value against the other in a Series object created using groupby\n",
    "    #Those values should be YES or NO\n",
    "    rates = []\n",
    "    for i in range(1, len(table), 2):\n",
    "        rates.append((table[i]/(table[i]+table[i-1]))*100)\n",
    "    return rates"
   ]
  },
  {
   "cell_type": "code",
   "execution_count": 29,
   "id": "febdb2bf",
   "metadata": {},
   "outputs": [
    {
     "data": {
      "text/plain": [
       "[19.015233949945593, 11.345939933259176, 10.723718964606444, 11.98581560283688]"
      ]
     },
     "execution_count": 29,
     "metadata": {},
     "output_type": "execute_result"
    }
   ],
   "source": [
    "rate_list = []\n",
    "\n",
    "rate_list = find_rates(table)\n",
    "rate_list\n"
   ]
  },
  {
   "cell_type": "markdown",
   "id": "c4fb2165",
   "metadata": {},
   "source": [
    "And then I can plot using the Channels in the x index and the list in the y index"
   ]
  },
  {
   "cell_type": "code",
   "execution_count": 30,
   "id": "8e1a08a3",
   "metadata": {},
   "outputs": [
    {
     "data": {
      "image/png": "[encoded data removed]",
      "text/plain": [
       "<Figure size 432x288 with 1 Axes>"
      ]
     },
     "metadata": {
      "needs_background": "light"
     },
     "output_type": "display_data"
    }
   ],
   "source": [
    "sns.barplot(x=clean_data['SALES_CHANNEL'].unique(), y=rate_list)\n",
    "plt.show()"
   ]
  },
  {
   "cell_type": "markdown",
   "id": "a0aec0ec",
   "metadata": {},
   "source": [
    "Show a plot of the response rate by the total claim amount.\n"
   ]
  },
  {
   "cell_type": "markdown",
   "id": "b788c203",
   "metadata": {},
   "source": [
    "I create a copy of the list to work on it"
   ]
  },
  {
   "cell_type": "code",
   "execution_count": 31,
   "id": "b333df9f",
   "metadata": {},
   "outputs": [],
   "source": [
    "claim_amount = clean_data.copy()"
   ]
  },
  {
   "cell_type": "markdown",
   "id": "a52fae47",
   "metadata": {},
   "source": [
    "Using pandas.cut() I can find 5 intervals of the values in 'TOTAL_CLAIM_AMOUNT'"
   ]
  },
  {
   "cell_type": "code",
   "execution_count": 32,
   "id": "0e3a7c6a",
   "metadata": {},
   "outputs": [
    {
     "data": {
      "text/plain": [
       "[(-2.794, 578.727], (578.727, 1157.355], (1157.355, 1735.983], (1735.983, 2314.612], (2314.612, 2893.24]]\n",
       "Categories (5, interval[float64, right]): [(-2.794, 578.727] < (578.727, 1157.355] < (1157.355, 1735.983] < (1735.983, 2314.612] < (2314.612, 2893.24]]"
      ]
     },
     "execution_count": 32,
     "metadata": {},
     "output_type": "execute_result"
    }
   ],
   "source": [
    "claim_amount['RANGE'] = pd.cut(clean_data.TOTAL_CLAIM_AMOUNT, 5)\n",
    "claim_amount['RANGE'].unique()"
   ]
  },
  {
   "cell_type": "code",
   "execution_count": 33,
   "id": "ce2aa7c1",
   "metadata": {},
   "outputs": [
    {
     "data": {
      "text/plain": [
       "RANGE                 RESPONSE\n",
       "(-2.794, 578.727]     No          6473\n",
       "                      Yes         1127\n",
       "(578.727, 1157.355]   No          1583\n",
       "                      Yes          213\n",
       "(1157.355, 1735.983]  No           197\n",
       "                      Yes           37\n",
       "(1735.983, 2314.612]  No            40\n",
       "                      Yes            0\n",
       "(2314.612, 2893.24]   No             6\n",
       "                      Yes            0\n",
       "dtype: int64"
      ]
     },
     "execution_count": 33,
     "metadata": {},
     "output_type": "execute_result"
    }
   ],
   "source": [
    "claim_amount_responses = claim_amount.groupby(['RANGE', 'RESPONSE']).size()\n",
    "claim_amount_responses"
   ]
  },
  {
   "cell_type": "code",
   "execution_count": 34,
   "id": "ad1b82c4",
   "metadata": {},
   "outputs": [
    {
     "data": {
      "text/plain": [
       "[14.828947368421053, 11.859688195991092, 15.81196581196581, 0.0, 0.0]"
      ]
     },
     "execution_count": 34,
     "metadata": {},
     "output_type": "execute_result"
    }
   ],
   "source": [
    "claim_rates = []\n",
    "claim_rates = find_rates(claim_amount_responses)\n",
    "claim_rates"
   ]
  },
  {
   "cell_type": "code",
   "execution_count": 35,
   "id": "8c6a24bc",
   "metadata": {
    "scrolled": false
   },
   "outputs": [
    {
     "data": {
      "image/png": "[encoded data removed]",
      "text/plain": [
       "<Figure size 432x288 with 1 Axes>"
      ]
     },
     "metadata": {
      "needs_background": "light"
     },
     "output_type": "display_data"
    }
   ],
   "source": [
    "sns.barplot(x=claim_rates, y=claim_amount['RANGE'].unique())\n",
    "plt.show()"
   ]
  },
  {
   "cell_type": "markdown",
   "id": "c9f3ad72",
   "metadata": {},
   "source": [
    "Show a plot of the response rate by income."
   ]
  },
  {
   "cell_type": "markdown",
   "id": "105debb1",
   "metadata": {},
   "source": [
    "In this case I choose to make 10 groups instead of 5"
   ]
  },
  {
   "cell_type": "code",
   "execution_count": 36,
   "id": "20470b86",
   "metadata": {},
   "outputs": [
    {
     "data": {
      "text/plain": [
       "RANGE_INCOME        RESPONSE\n",
       "(-99.981, 9998.1]   No          2247\n",
       "                    Yes          215\n",
       "(9998.1, 19996.2]   No           385\n",
       "                    Yes          169\n",
       "(19996.2, 29994.3]  No          1175\n",
       "                    Yes          291\n",
       "(29994.3, 39992.4]  No           815\n",
       "                    Yes          138\n",
       "(39992.4, 49990.5]  No           710\n",
       "                    Yes           73\n",
       "(49990.5, 59988.6]  No           709\n",
       "                    Yes          126\n",
       "(59988.6, 69986.7]  No           691\n",
       "                    Yes          121\n",
       "(69986.7, 79984.8]  No           615\n",
       "                    Yes          124\n",
       "(79984.8, 89982.9]  No           511\n",
       "                    Yes           59\n",
       "(89982.9, 99981.0]  No           441\n",
       "                    Yes           61\n",
       "dtype: int64"
      ]
     },
     "execution_count": 36,
     "metadata": {},
     "output_type": "execute_result"
    }
   ],
   "source": [
    "income_table = clean_data.copy()\n",
    "income_table['RANGE_INCOME'] = pd.cut(income_table.INCOME, 10)\n",
    "\n",
    "income_table_responses = income_table.groupby(['RANGE_INCOME', 'RESPONSE']).size()\n",
    "income_table_responses"
   ]
  },
  {
   "cell_type": "code",
   "execution_count": 37,
   "id": "fe30e1b9",
   "metadata": {},
   "outputs": [
    {
     "data": {
      "text/plain": [
       "[8.732737611697807,\n",
       " 30.505415162454874,\n",
       " 19.84993178717599,\n",
       " 14.480587618048268,\n",
       " 9.323116219667945,\n",
       " 15.089820359281436,\n",
       " 14.901477832512317,\n",
       " 16.77943166441137,\n",
       " 10.350877192982457,\n",
       " 12.151394422310757]"
      ]
     },
     "execution_count": 37,
     "metadata": {},
     "output_type": "execute_result"
    }
   ],
   "source": [
    "income_rates = []\n",
    "income_rates = find_rates(income_table_responses)\n",
    "income_rates"
   ]
  },
  {
   "cell_type": "code",
   "execution_count": 38,
   "id": "39db185d",
   "metadata": {},
   "outputs": [
    {
     "data": {
      "image/png": "[encoded data removed]",
      "text/plain": [
       "<Figure size 432x288 with 1 Axes>"
      ]
     },
     "metadata": {
      "needs_background": "light"
     },
     "output_type": "display_data"
    }
   ],
   "source": [
    "sns.barplot(x=income_rates, y=income_table['RANGE_INCOME'].unique())\n",
    "plt.show()"
   ]
  },
  {
   "cell_type": "markdown",
   "id": "97c6d78d",
   "metadata": {},
   "source": [
    "# **Round 4**"
   ]
  },
  {
   "cell_type": "markdown",
   "id": "d6ad1ca6",
   "metadata": {},
   "source": [
    "#### Check the data types of the columns. Get the numeric data into dataframe called `numerical` and `categorical` columns in a dataframe called categoricals. (You can use `np.number` and `np.object` to select the numerical data types and categorical data types respectively)"
   ]
  },
  {
   "cell_type": "code",
   "execution_count": 39,
   "id": "8db032b3",
   "metadata": {},
   "outputs": [
    {
     "data": {
      "text/plain": [
       "CUSTOMER                                 object\n",
       "STATE                                    object\n",
       "CUSTOMER_LIFETIME_VALUE                 float64\n",
       "RESPONSE                                 object\n",
       "COVERAGE                                 object\n",
       "EDUCATION                                object\n",
       "EFFECTIVE_TO_DATE                datetime64[ns]\n",
       "EMPLOYMENT_STATUS                        object\n",
       "GENDER                                   object\n",
       "INCOME                                    int64\n",
       "LOCATION_CODE                            object\n",
       "MARITAL_STATUS                           object\n",
       "MONTHLY_PREMIUM_AUTO                      int64\n",
       "MONTHS_SINCE_LAST_CLAIM                 float64\n",
       "MONTHS_SINCE_POLICY_INCEPTION             int64\n",
       "NUMBER_OF_OPEN_COMPLAINTS               float64\n",
       "NUMBER_OF_POLICIES                        int64\n",
       "POLICY_TYPE                              object\n",
       "POLICY                                   object\n",
       "RENEW_OFFER_TYPE                         object\n",
       "SALES_CHANNEL                            object\n",
       "TOTAL_CLAIM_AMOUNT                      float64\n",
       "VEHICLE_CLASS                            object\n",
       "VEHICLE_SIZE                             object\n",
       "MONTH                                     int64\n",
       "dtype: object"
      ]
     },
     "execution_count": 39,
     "metadata": {},
     "output_type": "execute_result"
    }
   ],
   "source": [
    "clean_data.dtypes"
   ]
  },
  {
   "cell_type": "code",
   "execution_count": 40,
   "id": "e6ad3a60",
   "metadata": {},
   "outputs": [
    {
     "data": {
      "text/plain": [
       "CUSTOMER_LIFETIME_VALUE          float64\n",
       "INCOME                             int64\n",
       "MONTHLY_PREMIUM_AUTO               int64\n",
       "MONTHS_SINCE_LAST_CLAIM          float64\n",
       "MONTHS_SINCE_POLICY_INCEPTION      int64\n",
       "NUMBER_OF_OPEN_COMPLAINTS        float64\n",
       "NUMBER_OF_POLICIES                 int64\n",
       "TOTAL_CLAIM_AMOUNT               float64\n",
       "MONTH                              int64\n",
       "dtype: object"
      ]
     },
     "execution_count": 40,
     "metadata": {},
     "output_type": "execute_result"
    }
   ],
   "source": [
    "numerical = clean_data._get_numeric_data()\n",
    "numerical.dtypes"
   ]
  },
  {
   "cell_type": "code",
   "execution_count": 41,
   "id": "48b6686b",
   "metadata": {},
   "outputs": [
    {
     "data": {
      "text/plain": [
       "CUSTOMER             object\n",
       "STATE                object\n",
       "RESPONSE             object\n",
       "COVERAGE             object\n",
       "EDUCATION            object\n",
       "EMPLOYMENT_STATUS    object\n",
       "GENDER               object\n",
       "LOCATION_CODE        object\n",
       "MARITAL_STATUS       object\n",
       "POLICY_TYPE          object\n",
       "POLICY               object\n",
       "RENEW_OFFER_TYPE     object\n",
       "SALES_CHANNEL        object\n",
       "VEHICLE_CLASS        object\n",
       "VEHICLE_SIZE         object\n",
       "dtype: object"
      ]
     },
     "execution_count": 41,
     "metadata": {},
     "output_type": "execute_result"
    }
   ],
   "source": [
    "categorical = clean_data.select_dtypes(include=['object'])\n",
    "categorical.dtypes"
   ]
  },
  {
   "cell_type": "markdown",
   "id": "64583b96",
   "metadata": {},
   "source": [
    "#### Now we will try to check the normality of the numerical variables visually\n",
    "- Use seaborn library to construct distribution plots for the numerical variables\n",
    "- Use Matplotlib to construct histograms\n",
    "- Do the distributions for different numerical variables look like a normal distribution?"
   ]
  },
  {
   "cell_type": "code",
   "execution_count": 42,
   "id": "f30f94de",
   "metadata": {},
   "outputs": [
    {
     "data": {
      "text/plain": [
       "<seaborn.axisgrid.FacetGrid at 0x2c2d3634820>"
      ]
     },
     "execution_count": 42,
     "metadata": {},
     "output_type": "execute_result"
    },
    {
     "data": {
      "image/png": "[encoded data removed]",
      "text/plain": [
       "<Figure size 360x360 with 1 Axes>"
      ]
     },
     "metadata": {
      "needs_background": "light"
     },
     "output_type": "display_data"
    }
   ],
   "source": [
    "sns.displot(numerical['CUSTOMER_LIFETIME_VALUE'])"
   ]
  },
  {
   "cell_type": "markdown",
   "id": "1cef51b4",
   "metadata": {},
   "source": [
    "I can loop through the columns to create all the distribution plots in one go"
   ]
  },
  {
   "cell_type": "code",
   "execution_count": 43,
   "id": "2222f8f6",
   "metadata": {},
   "outputs": [],
   "source": [
    "def distributions(table):\n",
    "    #Plots a displot for each column in a table\n",
    "    #All those columns must be numerical\n",
    "    for name in table.columns:\n",
    "        sns.displot(table[name])\n",
    "        plt.show()"
   ]
  },
  {
   "cell_type": "code",
   "execution_count": 44,
   "id": "51c96cdf",
   "metadata": {},
   "outputs": [
    {
     "data": {
      "image/png": "[encoded data removed]",
      "text/plain": [
       "<Figure size 360x360 with 1 Axes>"
      ]
     },
     "metadata": {
      "needs_background": "light"
     },
     "output_type": "display_data"
    },
    {
     "data": {
      "image/png": "[encoded data removed]",
      "text/plain": [
       "<Figure size 360x360 with 1 Axes>"
      ]
     },
     "metadata": {
      "needs_background": "light"
     },
     "output_type": "display_data"
    },
    {
     "data": {
      "image/png": "[encoded data removed]",
      "text/plain": [
       "<Figure size 360x360 with 1 Axes>"
      ]
     },
     "metadata": {
      "needs_background": "light"
     },
     "output_type": "display_data"
    },
    {
     "data": {
      "image/png": "[encoded data removed]",
      "text/plain": [
       "<Figure size 360x360 with 1 Axes>"
      ]
     },
     "metadata": {
      "needs_background": "light"
     },
     "output_type": "display_data"
    },
    {
     "data": {
      "image/png": "[encoded data removed]",
      "text/plain": [
       "<Figure size 360x360 with 1 Axes>"
      ]
     },
     "metadata": {
      "needs_background": "light"
     },
     "output_type": "display_data"
    },
    {
     "data": {
      "image/png": "[encoded data removed]",
      "text/plain": [
       "<Figure size 360x360 with 1 Axes>"
      ]
     },
     "metadata": {
      "needs_background": "light"
     },
     "output_type": "display_data"
    },
    {
     "data": {
      "image/png": "[encoded data removed]",
      "text/plain": [
       "<Figure size 360x360 with 1 Axes>"
      ]
     },
     "metadata": {
      "needs_background": "light"
     },
     "output_type": "display_data"
    },
    {
     "data": {
      "image/png": "[encoded data removed]",
      "text/plain": [
       "<Figure size 360x360 with 1 Axes>"
      ]
     },
     "metadata": {
      "needs_background": "light"
     },
     "output_type": "display_data"
    },
    {
     "data": {
      "image/png": "[encoded data removed]",
      "text/plain": [
       "<Figure size 360x360 with 1 Axes>"
      ]
     },
     "metadata": {
      "needs_background": "light"
     },
     "output_type": "display_data"
    }
   ],
   "source": [
    "distributions(numerical)"
   ]
  },
  {
   "cell_type": "code",
   "execution_count": 45,
   "id": "f860395b",
   "metadata": {},
   "outputs": [
    {
     "data": {
      "image/png": "[encoded data removed]",
      "text/plain": [
       "<Figure size 360x360 with 1 Axes>"
      ]
     },
     "metadata": {
      "needs_background": "light"
     },
     "output_type": "display_data"
    },
    {
     "data": {
      "image/png": "[encoded data removed]",
      "text/plain": [
       "<Figure size 360x360 with 1 Axes>"
      ]
     },
     "metadata": {
      "needs_background": "light"
     },
     "output_type": "display_data"
    },
    {
     "data": {
      "image/png": "[encoded data removed]",
      "text/plain": [
       "<Figure size 360x360 with 1 Axes>"
      ]
     },
     "metadata": {
      "needs_background": "light"
     },
     "output_type": "display_data"
    },
    {
     "data": {
      "image/png": "[encoded data removed]",
      "text/plain": [
       "<Figure size 360x360 with 1 Axes>"
      ]
     },
     "metadata": {
      "needs_background": "light"
     },
     "output_type": "display_data"
    },
    {
     "data": {
      "image/png": "[encoded data removed]",
      "text/plain": [
       "<Figure size 360x360 with 1 Axes>"
      ]
     },
     "metadata": {
      "needs_background": "light"
     },
     "output_type": "display_data"
    },
    {
     "data": {
      "image/png": "[encoded data removed]",
      "text/plain": [
       "<Figure size 360x360 with 1 Axes>"
      ]
     },
     "metadata": {
      "needs_background": "light"
     },
     "output_type": "display_data"
    },
    {
     "data": {
      "image/png": "[encoded data removed]",
      "text/plain": [
       "<Figure size 360x360 with 1 Axes>"
      ]
     },
     "metadata": {
      "needs_background": "light"
     },
     "output_type": "display_data"
    },
    {
     "data": {
      "image/png": "[encoded data removed]",
      "text/plain": [
       "<Figure size 360x360 with 1 Axes>"
      ]
     },
     "metadata": {
      "needs_background": "light"
     },
     "output_type": "display_data"
    },
    {
     "data": {
      "image/png": "[encoded data removed]",
      "text/plain": [
       "<Figure size 360x360 with 1 Axes>"
      ]
     },
     "metadata": {
      "needs_background": "light"
     },
     "output_type": "display_data"
    }
   ],
   "source": [
    "for name in numerical.columns:\n",
    "    sns.displot(numerical[name])\n",
    "    plt.show()"
   ]
  },
  {
   "cell_type": "markdown",
   "id": "69881f6b",
   "metadata": {},
   "source": [
    "Same with the histograms"
   ]
  },
  {
   "cell_type": "code",
   "execution_count": 46,
   "id": "b04e9eb6",
   "metadata": {},
   "outputs": [],
   "source": [
    "def histograms(table):\n",
    "    #Plots a histogram for each column in a table\n",
    "    #All those columns must be numerical\n",
    "    for name in table.columns:\n",
    "        plt.hist(table[name])\n",
    "        plt.show()\n",
    "        print(name)"
   ]
  },
  {
   "cell_type": "code",
   "execution_count": 47,
   "id": "0271fdcc",
   "metadata": {},
   "outputs": [
    {
     "data": {
      "image/png": "[encoded data removed]",
      "text/plain": [
       "<Figure size 432x288 with 1 Axes>"
      ]
     },
     "metadata": {
      "needs_background": "light"
     },
     "output_type": "display_data"
    },
    {
     "name": "stdout",
     "output_type": "stream",
     "text": [
      "CUSTOMER_LIFETIME_VALUE\n"
     ]
    },
    {
     "data": {
      "image/png": "[encoded data removed]",
      "text/plain": [
       "<Figure size 432x288 with 1 Axes>"
      ]
     },
     "metadata": {
      "needs_background": "light"
     },
     "output_type": "display_data"
    },
    {
     "name": "stdout",
     "output_type": "stream",
     "text": [
      "INCOME\n"
     ]
    },
    {
     "data": {
      "image/png": "[encoded data removed]",
      "text/plain": [
       "<Figure size 432x288 with 1 Axes>"
      ]
     },
     "metadata": {
      "needs_background": "light"
     },
     "output_type": "display_data"
    },
    {
     "name": "stdout",
     "output_type": "stream",
     "text": [
      "MONTHLY_PREMIUM_AUTO\n"
     ]
    },
    {
     "data": {
      "image/png": "[encoded data removed]",
      "text/plain": [
       "<Figure size 432x288 with 1 Axes>"
      ]
     },
     "metadata": {
      "needs_background": "light"
     },
     "output_type": "display_data"
    },
    {
     "name": "stdout",
     "output_type": "stream",
     "text": [
      "MONTHS_SINCE_LAST_CLAIM\n"
     ]
    },
    {
     "data": {
      "image/png": "[encoded data removed]",
      "text/plain": [
       "<Figure size 432x288 with 1 Axes>"
      ]
     },
     "metadata": {
      "needs_background": "light"
     },
     "output_type": "display_data"
    },
    {
     "name": "stdout",
     "output_type": "stream",
     "text": [
      "MONTHS_SINCE_POLICY_INCEPTION\n"
     ]
    },
    {
     "data": {
      "image/png": "[encoded data removed]",
      "text/plain": [
       "<Figure size 432x288 with 1 Axes>"
      ]
     },
     "metadata": {
      "needs_background": "light"
     },
     "output_type": "display_data"
    },
    {
     "name": "stdout",
     "output_type": "stream",
     "text": [
      "NUMBER_OF_OPEN_COMPLAINTS\n"
     ]
    },
    {
     "data": {
      "image/png": "[encoded data removed]",
      "text/plain": [
       "<Figure size 432x288 with 1 Axes>"
      ]
     },
     "metadata": {
      "needs_background": "light"
     },
     "output_type": "display_data"
    },
    {
     "name": "stdout",
     "output_type": "stream",
     "text": [
      "NUMBER_OF_POLICIES\n"
     ]
    },
    {
     "data": {
      "image/png": "[encoded data removed]",
      "text/plain": [
       "<Figure size 432x288 with 1 Axes>"
      ]
     },
     "metadata": {
      "needs_background": "light"
     },
     "output_type": "display_data"
    },
    {
     "name": "stdout",
     "output_type": "stream",
     "text": [
      "TOTAL_CLAIM_AMOUNT\n"
     ]
    },
    {
     "data": {
      "image/png": "[encoded data removed]",
      "text/plain": [
       "<Figure size 432x288 with 1 Axes>"
      ]
     },
     "metadata": {
      "needs_background": "light"
     },
     "output_type": "display_data"
    },
    {
     "name": "stdout",
     "output_type": "stream",
     "text": [
      "MONTH\n"
     ]
    }
   ],
   "source": [
    "histograms(numerical)"
   ]
  },
  {
   "cell_type": "code",
   "execution_count": 48,
   "id": "e5b6b18e",
   "metadata": {},
   "outputs": [
    {
     "data": {
      "image/png": "[encoded data removed]",
      "text/plain": [
       "<Figure size 432x288 with 1 Axes>"
      ]
     },
     "metadata": {
      "needs_background": "light"
     },
     "output_type": "display_data"
    },
    {
     "name": "stdout",
     "output_type": "stream",
     "text": [
      "CUSTOMER_LIFETIME_VALUE\n"
     ]
    },
    {
     "data": {
      "image/png": "[encoded data removed]",
      "text/plain": [
       "<Figure size 432x288 with 1 Axes>"
      ]
     },
     "metadata": {
      "needs_background": "light"
     },
     "output_type": "display_data"
    },
    {
     "name": "stdout",
     "output_type": "stream",
     "text": [
      "INCOME\n"
     ]
    },
    {
     "data": {
      "image/png": "[encoded data removed]",
      "text/plain": [
       "<Figure size 432x288 with 1 Axes>"
      ]
     },
     "metadata": {
      "needs_background": "light"
     },
     "output_type": "display_data"
    },
    {
     "name": "stdout",
     "output_type": "stream",
     "text": [
      "MONTHLY_PREMIUM_AUTO\n"
     ]
    },
    {
     "data": {
      "image/png": "[encoded data removed]",
      "text/plain": [
       "<Figure size 432x288 with 1 Axes>"
      ]
     },
     "metadata": {
      "needs_background": "light"
     },
     "output_type": "display_data"
    },
    {
     "name": "stdout",
     "output_type": "stream",
     "text": [
      "MONTHS_SINCE_LAST_CLAIM\n"
     ]
    },
    {
     "data": {
      "image/png": "[encoded data removed]",
      "text/plain": [
       "<Figure size 432x288 with 1 Axes>"
      ]
     },
     "metadata": {
      "needs_background": "light"
     },
     "output_type": "display_data"
    },
    {
     "name": "stdout",
     "output_type": "stream",
     "text": [
      "MONTHS_SINCE_POLICY_INCEPTION\n"
     ]
    },
    {
     "data": {
      "image/png": "[encoded data removed]",
      "text/plain": [
       "<Figure size 432x288 with 1 Axes>"
      ]
     },
     "metadata": {
      "needs_background": "light"
     },
     "output_type": "display_data"
    },
    {
     "name": "stdout",
     "output_type": "stream",
     "text": [
      "NUMBER_OF_OPEN_COMPLAINTS\n"
     ]
    },
    {
     "data": {
      "image/png": "[encoded data removed]",
      "text/plain": [
       "<Figure size 432x288 with 1 Axes>"
      ]
     },
     "metadata": {
      "needs_background": "light"
     },
     "output_type": "display_data"
    },
    {
     "name": "stdout",
     "output_type": "stream",
     "text": [
      "NUMBER_OF_POLICIES\n"
     ]
    },
    {
     "data": {
      "image/png": "[encoded data removed]",
      "text/plain": [
       "<Figure size 432x288 with 1 Axes>"
      ]
     },
     "metadata": {
      "needs_background": "light"
     },
     "output_type": "display_data"
    },
    {
     "name": "stdout",
     "output_type": "stream",
     "text": [
      "TOTAL_CLAIM_AMOUNT\n"
     ]
    },
    {
     "data": {
      "image/png": "[encoded data removed]",
      "text/plain": [
       "<Figure size 432x288 with 1 Axes>"
      ]
     },
     "metadata": {
      "needs_background": "light"
     },
     "output_type": "display_data"
    },
    {
     "name": "stdout",
     "output_type": "stream",
     "text": [
      "MONTH\n"
     ]
    }
   ],
   "source": [
    "for name in numerical.columns:\n",
    "    plt.hist(numerical[name])\n",
    "    plt.show()\n",
    "    print(name)"
   ]
  },
  {
   "cell_type": "markdown",
   "id": "f30d282e",
   "metadata": {},
   "source": [
    "The plots do not look like normal distributions, as in, they don't fit inside a gaussian bell diagram"
   ]
  },
  {
   "cell_type": "markdown",
   "id": "c10e9732",
   "metadata": {},
   "source": [
    "#### For the numerical variables, check the multicollinearity between the features. Please note that we will use the column `total_claim_amount` later as the target variable."
   ]
  },
  {
   "cell_type": "code",
   "execution_count": 49,
   "id": "933188dc",
   "metadata": {},
   "outputs": [],
   "source": [
    "def corr_heatmap(table):\n",
    "    #Plots a correlations heatmap for a table\n",
    "    #All the values must be numerical\n",
    "    correlations_matrix = table.corr()\n",
    "    sns.heatmap(correlations_matrix, annot=True)\n",
    "    plt.show()"
   ]
  },
  {
   "cell_type": "code",
   "execution_count": 50,
   "id": "b238c439",
   "metadata": {},
   "outputs": [
    {
     "data": {
      "image/png": "[encoded data removed]",
      "text/plain": [
       "<Figure size 432x288 with 2 Axes>"
      ]
     },
     "metadata": {
      "needs_background": "light"
     },
     "output_type": "display_data"
    }
   ],
   "source": [
    "corr_heatmap(numerical)"
   ]
  },
  {
   "cell_type": "code",
   "execution_count": 51,
   "id": "8588cd49",
   "metadata": {},
   "outputs": [
    {
     "data": {
      "image/png": "[encoded data removed]",
      "text/plain": [
       "<Figure size 432x288 with 2 Axes>"
      ]
     },
     "metadata": {
      "needs_background": "light"
     },
     "output_type": "display_data"
    }
   ],
   "source": [
    "correlations_matrix = numerical.corr()\n",
    "sns.heatmap(correlations_matrix, annot=True)\n",
    "plt.show()"
   ]
  },
  {
   "cell_type": "code",
   "execution_count": null,
   "id": "5f8d55f7",
   "metadata": {},
   "outputs": [],
   "source": [
    "sns.pairplot(numerical)\n",
    "plt.show()"
   ]
  },
  {
   "cell_type": "markdown",
   "id": "5683f64c",
   "metadata": {},
   "source": [
    "#### Drop one of the two features that show a high correlation between them (greater than 0.9). Write code for both the correlation matrix and for seaborn heatmap. If there is no pair of features that have a high correlation, then do not drop any features"
   ]
  },
  {
   "cell_type": "markdown",
   "id": "0e36f3ea",
   "metadata": {},
   "source": [
    "As there are no correlations greater than 0.9 (the highest is 0.63 between `MONTHLY_PREMIUM_AUTO` and `TOTAL_CLAIM_AMOUNT`) I am not droping any columns"
   ]
  },
  {
   "cell_type": "markdown",
   "id": "27bdd8a2",
   "metadata": {},
   "source": [
    "## **Round 5**"
   ]
  },
  {
   "cell_type": "markdown",
   "id": "a591241d",
   "metadata": {},
   "source": [
    "#### Processing Data\n",
    "- X-y split.\n",
    "- Normalize (numerical)."
   ]
  },
  {
   "cell_type": "markdown",
   "id": "e3034740",
   "metadata": {},
   "source": [
    "As I have already worked on the numerical columns with the dataframe `numerical` I will be using it as a base to do the split.\n",
    "But first, I have to remove the `MONTH` column, as it won't offer any data of use."
   ]
  },
  {
   "cell_type": "code",
   "execution_count": null,
   "id": "649569e4",
   "metadata": {},
   "outputs": [],
   "source": [
    "numerical = numerical.drop(['MONTH'], axis=1)"
   ]
  },
  {
   "cell_type": "code",
   "execution_count": null,
   "id": "c3c0c7d8",
   "metadata": {
    "scrolled": true
   },
   "outputs": [],
   "source": [
    "# numerical\n",
    "y = numerical['TOTAL_CLAIM_AMOUNT']\n",
    "X = numerical.drop(['TOTAL_CLAIM_AMOUNT'], axis=1)\n",
    "display(y)\n",
    "X"
   ]
  },
  {
   "cell_type": "markdown",
   "id": "97e432ca",
   "metadata": {},
   "source": [
    "For normalizing, I prefer having values in the [0,1] range, so I choose the `MinMaxScaler()` function"
   ]
  },
  {
   "cell_type": "code",
   "execution_count": null,
   "id": "db328016",
   "metadata": {},
   "outputs": [],
   "source": [
    "from sklearn.preprocessing import MinMaxScaler"
   ]
  },
  {
   "cell_type": "code",
   "execution_count": null,
   "id": "ff29156c",
   "metadata": {},
   "outputs": [],
   "source": [
    "transformer = MinMaxScaler().fit(X)\n",
    "x_normalized = transformer.transform(X)\n",
    "\n",
    "numerical_normalized = pd.DataFrame(x_normalized, columns=X.columns)\n",
    "numerical_normalized"
   ]
  },
  {
   "cell_type": "markdown",
   "id": "5cce24aa",
   "metadata": {},
   "source": [
    "### **Round 6**"
   ]
  },
  {
   "cell_type": "markdown",
   "id": "540cddc5",
   "metadata": {},
   "source": [
    "One Hot/Label Encoding (categorical)."
   ]
  },
  {
   "cell_type": "code",
   "execution_count": null,
   "id": "d68a7e7f",
   "metadata": {},
   "outputs": [],
   "source": [
    "categorical"
   ]
  },
  {
   "cell_type": "code",
   "execution_count": null,
   "id": "1ad1d626",
   "metadata": {},
   "outputs": [],
   "source": [
    "categorical.POLICY_TYPE.unique()"
   ]
  },
  {
   "cell_type": "code",
   "execution_count": null,
   "id": "4c6584a9",
   "metadata": {},
   "outputs": [],
   "source": [
    "categorical.POLICY.unique()"
   ]
  },
  {
   "cell_type": "markdown",
   "id": "5ea0b206",
   "metadata": {},
   "source": [
    "As the information in `POLICY_TYPE` is included in `POLICY` I will drop the column `POLICY_TYPE`.\n",
    "Also, the `CUSTOMER` column offer no important information as it is only an identifier"
   ]
  },
  {
   "cell_type": "code",
   "execution_count": null,
   "id": "d2f9512b",
   "metadata": {},
   "outputs": [],
   "source": [
    "categorical = categorical.drop(['POLICY_TYPE', 'CUSTOMER'], axis=1)\n"
   ]
  },
  {
   "cell_type": "code",
   "execution_count": null,
   "id": "7e1e04ea",
   "metadata": {
    "scrolled": true
   },
   "outputs": [],
   "source": [
    "categorical.head()"
   ]
  },
  {
   "cell_type": "code",
   "execution_count": null,
   "id": "35eec191",
   "metadata": {},
   "outputs": [],
   "source": [
    "from sklearn.preprocessing import OneHotEncoder"
   ]
  },
  {
   "cell_type": "markdown",
   "id": "6745d394",
   "metadata": {},
   "source": [
    "To make it easier to work on the categories, I want to divide them into the ones I want to apply One Hot encoding and the ones I want to apply Label encoding to."
   ]
  },
  {
   "cell_type": "code",
   "execution_count": null,
   "id": "764ef1bd",
   "metadata": {
    "scrolled": true
   },
   "outputs": [],
   "source": [
    "categorical_OH = categorical[['STATE','GENDER','LOCATION_CODE', 'MARITAL_STATUS', 'POLICY','SALES_CHANNEL', 'VEHICLE_CLASS']].copy()\n",
    "categorical_label = categorical[['RESPONSE', 'COVERAGE', 'EDUCATION', 'EMPLOYMENT_STATUS', 'RENEW_OFFER_TYPE', 'VEHICLE_SIZE']].copy()"
   ]
  },
  {
   "cell_type": "code",
   "execution_count": null,
   "id": "a2c301e5",
   "metadata": {},
   "outputs": [],
   "source": [
    "categorical_OH"
   ]
  },
  {
   "cell_type": "code",
   "execution_count": null,
   "id": "95ce8164",
   "metadata": {},
   "outputs": [],
   "source": [
    "encoder = OneHotEncoder().fit(categorical_OH)\n",
    "encoded_for_p = encoder.transform(categorical_OH).toarray()\n",
    "\n",
    "encoder.categories_\n",
    "cols = [colname for row in encoder.categories_ for colname in row]\n",
    "\n",
    "onehot_table = pd.DataFrame(encoded_for_p, columns=cols)\n",
    "cols_to_drop = [row[0] for row in encoder.categories_]\n",
    "\n",
    "onehot_table = onehot_table.drop(cols_to_drop,axis=1)\n",
    "onehot_table"
   ]
  },
  {
   "cell_type": "code",
   "execution_count": null,
   "id": "782af2f8",
   "metadata": {
    "scrolled": true
   },
   "outputs": [],
   "source": [
    "categorical_label"
   ]
  },
  {
   "cell_type": "code",
   "execution_count": null,
   "id": "62be18bb",
   "metadata": {},
   "outputs": [],
   "source": [
    "from sklearn.preprocessing import LabelEncoder"
   ]
  },
  {
   "cell_type": "markdown",
   "id": "aa26fa0a",
   "metadata": {},
   "source": [
    "Using the line in this web\n",
    "https://www.kite.com/python/answers/how-to-encode-labels-for-multiple-columns-with-scikit-learn-in-python\n",
    "I can run the Label encoder in one go"
   ]
  },
  {
   "cell_type": "code",
   "execution_count": null,
   "id": "bc65d50b",
   "metadata": {},
   "outputs": [],
   "source": [
    "label_table = categorical_label.copy()\n",
    "\n",
    "\n",
    "label_table = label_table.apply(LabelEncoder().fit_transform)\n",
    "label_table"
   ]
  },
  {
   "cell_type": "markdown",
   "id": "dc321099",
   "metadata": {},
   "source": [
    "#### Merge the frames"
   ]
  },
  {
   "cell_type": "code",
   "execution_count": null,
   "id": "d7e92be0",
   "metadata": {
    "scrolled": true
   },
   "outputs": [],
   "source": [
    "categorical_encoded = pd.concat([onehot_table,label_table], axis=1)\n",
    "categorical_encoded"
   ]
  },
  {
   "cell_type": "code",
   "execution_count": null,
   "id": "9b596dd4",
   "metadata": {},
   "outputs": [],
   "source": [
    "final_table = pd.concat([numerical_normalized, categorical_encoded], axis=1)\n",
    "final_table"
   ]
  },
  {
   "cell_type": "markdown",
   "id": "8657f7c9",
   "metadata": {},
   "source": [
    "### Linear Regression"
   ]
  },
  {
   "cell_type": "markdown",
   "id": "1cc5785f",
   "metadata": {},
   "source": [
    "Train-test split"
   ]
  },
  {
   "cell_type": "code",
   "execution_count": null,
   "id": "3a3f76a0",
   "metadata": {},
   "outputs": [],
   "source": [
    "from sklearn import linear_model\n",
    "from sklearn.model_selection import train_test_split"
   ]
  },
  {
   "cell_type": "code",
   "execution_count": null,
   "id": "06702566",
   "metadata": {
    "scrolled": true
   },
   "outputs": [],
   "source": [
    "y"
   ]
  },
  {
   "cell_type": "code",
   "execution_count": null,
   "id": "8b0ef3f6",
   "metadata": {},
   "outputs": [],
   "source": [
    "X_train, X_test, y_train, y_test = train_test_split(final_table, y, test_size=0.2, random_state=42)"
   ]
  },
  {
   "cell_type": "markdown",
   "id": "50a08742",
   "metadata": {},
   "source": [
    "After separating the data in training and testing sets, let's run the training"
   ]
  },
  {
   "cell_type": "code",
   "execution_count": null,
   "id": "852db0dc",
   "metadata": {},
   "outputs": [],
   "source": [
    "lm = linear_model.LinearRegression()\n",
    "lm.fit(X_train,y_train)"
   ]
  },
  {
   "cell_type": "markdown",
   "id": "4d65be87",
   "metadata": {},
   "source": [
    "To see how well the training has gone, these metrix can be of use:"
   ]
  },
  {
   "cell_type": "code",
   "execution_count": null,
   "id": "2a045018",
   "metadata": {},
   "outputs": [],
   "source": [
    "from sklearn import linear_model\n",
    "from sklearn.model_selection import train_test_split\n",
    "from sklearn.metrics import r2_score, mean_squared_error, mean_absolute_error\n",
    "\n",
    "\n",
    "def metrics(X, y):\n",
    "    #Finds and prints the metrics of the algorithm\n",
    "    predictions = lm.predict(X)\n",
    "    r2 = r2_score(y, predictions)\n",
    "    print('R2:', r2)\n",
    "    mse = np.sqrt(mean_squared_error(y,predictions))\n",
    "    print('MSE:', mse)\n",
    "    rmse = math.sqrt(mse)\n",
    "    print('RMSE:', rmse)\n",
    "    mae = mean_absolute_error(y, predictions)\n",
    "    print('MAE:', mae)\n",
    "    "
   ]
  },
  {
   "cell_type": "code",
   "execution_count": null,
   "id": "289ff1d0",
   "metadata": {},
   "outputs": [],
   "source": [
    "metrics(X_test,y_test)"
   ]
  }
 ],
 "metadata": {
  "kernelspec": {
   "display_name": "Python 3 (ipykernel)",
   "language": "python",
   "name": "python3"
  },
  "language_info": {
   "codemirror_mode": {
    "name": "ipython",
    "version": 3
   },
   "file_extension": ".py",
   "mimetype": "text/x-python",
   "name": "python",
   "nbconvert_exporter": "python",
   "pygments_lexer": "ipython3",
   "version": "3.9.7"
  }
 },
 "nbformat": 4,
 "nbformat_minor": 5
}
